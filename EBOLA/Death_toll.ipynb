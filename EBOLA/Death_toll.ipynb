{
 "cells": [
  {
   "cell_type": "code",
   "execution_count": 1,
   "metadata": {},
   "outputs": [],
   "source": [
    "import pandas as pd\n",
    "import matplotlib.pyplot as plt\n",
    "import numpy as np\n",
    "\n",
    "df = pd.read_csv('ebola_2014_2016_clean.csv')"
   ]
  },
  {
   "cell_type": "code",
   "execution_count": 2,
   "metadata": {},
   "outputs": [
    {
     "data": {
      "text/html": [
       "<div>\n",
       "<style scoped>\n",
       "    .dataframe tbody tr th:only-of-type {\n",
       "        vertical-align: middle;\n",
       "    }\n",
       "\n",
       "    .dataframe tbody tr th {\n",
       "        vertical-align: top;\n",
       "    }\n",
       "\n",
       "    .dataframe thead th {\n",
       "        text-align: right;\n",
       "    }\n",
       "</style>\n",
       "<table border=\"1\" class=\"dataframe\">\n",
       "  <thead>\n",
       "    <tr style=\"text-align: right;\">\n",
       "      <th></th>\n",
       "      <th>Country</th>\n",
       "      <th>Date</th>\n",
       "      <th>No. of suspected cases</th>\n",
       "      <th>No. of probable cases</th>\n",
       "      <th>No. of confirmed cases</th>\n",
       "      <th>No. of confirmed, probable and suspected cases</th>\n",
       "      <th>No. of suspected deaths</th>\n",
       "      <th>No. of probable deaths</th>\n",
       "      <th>No. of confirmed deaths</th>\n",
       "      <th>No. of confirmed, probable and suspected deaths</th>\n",
       "    </tr>\n",
       "  </thead>\n",
       "  <tbody>\n",
       "    <tr>\n",
       "      <td>0</td>\n",
       "      <td>Guinea</td>\n",
       "      <td>2014-08-29</td>\n",
       "      <td>25.0</td>\n",
       "      <td>141.0</td>\n",
       "      <td>482.0</td>\n",
       "      <td>648.0</td>\n",
       "      <td>2.0</td>\n",
       "      <td>141.0</td>\n",
       "      <td>287.0</td>\n",
       "      <td>430.0</td>\n",
       "    </tr>\n",
       "    <tr>\n",
       "      <td>1</td>\n",
       "      <td>Nigeria</td>\n",
       "      <td>2014-08-29</td>\n",
       "      <td>3.0</td>\n",
       "      <td>1.0</td>\n",
       "      <td>15.0</td>\n",
       "      <td>19.0</td>\n",
       "      <td>0.0</td>\n",
       "      <td>1.0</td>\n",
       "      <td>6.0</td>\n",
       "      <td>7.0</td>\n",
       "    </tr>\n",
       "    <tr>\n",
       "      <td>2</td>\n",
       "      <td>Sierra Leone</td>\n",
       "      <td>2014-08-29</td>\n",
       "      <td>54.0</td>\n",
       "      <td>37.0</td>\n",
       "      <td>935.0</td>\n",
       "      <td>1026.0</td>\n",
       "      <td>8.0</td>\n",
       "      <td>34.0</td>\n",
       "      <td>380.0</td>\n",
       "      <td>422.0</td>\n",
       "    </tr>\n",
       "    <tr>\n",
       "      <td>3</td>\n",
       "      <td>Liberia</td>\n",
       "      <td>2014-08-29</td>\n",
       "      <td>382.0</td>\n",
       "      <td>674.0</td>\n",
       "      <td>322.0</td>\n",
       "      <td>1378.0</td>\n",
       "      <td>168.0</td>\n",
       "      <td>301.0</td>\n",
       "      <td>225.0</td>\n",
       "      <td>694.0</td>\n",
       "    </tr>\n",
       "    <tr>\n",
       "      <td>4</td>\n",
       "      <td>Sierra Leone</td>\n",
       "      <td>2014-09-05</td>\n",
       "      <td>78.0</td>\n",
       "      <td>37.0</td>\n",
       "      <td>1146.0</td>\n",
       "      <td>1261.0</td>\n",
       "      <td>11.0</td>\n",
       "      <td>37.0</td>\n",
       "      <td>443.0</td>\n",
       "      <td>491.0</td>\n",
       "    </tr>\n",
       "    <tr>\n",
       "      <td>...</td>\n",
       "      <td>...</td>\n",
       "      <td>...</td>\n",
       "      <td>...</td>\n",
       "      <td>...</td>\n",
       "      <td>...</td>\n",
       "      <td>...</td>\n",
       "      <td>...</td>\n",
       "      <td>...</td>\n",
       "      <td>...</td>\n",
       "      <td>...</td>\n",
       "    </tr>\n",
       "    <tr>\n",
       "      <td>2480</td>\n",
       "      <td>Liberia</td>\n",
       "      <td>2016-03-23</td>\n",
       "      <td>5636.0</td>\n",
       "      <td>1879.0</td>\n",
       "      <td>3151.0</td>\n",
       "      <td>10666.0</td>\n",
       "      <td>NaN</td>\n",
       "      <td>NaN</td>\n",
       "      <td>NaN</td>\n",
       "      <td>4806.0</td>\n",
       "    </tr>\n",
       "    <tr>\n",
       "      <td>2481</td>\n",
       "      <td>Italy</td>\n",
       "      <td>2016-03-23</td>\n",
       "      <td>0.0</td>\n",
       "      <td>0.0</td>\n",
       "      <td>1.0</td>\n",
       "      <td>1.0</td>\n",
       "      <td>NaN</td>\n",
       "      <td>NaN</td>\n",
       "      <td>NaN</td>\n",
       "      <td>0.0</td>\n",
       "    </tr>\n",
       "    <tr>\n",
       "      <td>2482</td>\n",
       "      <td>Liberia</td>\n",
       "      <td>2016-03-23</td>\n",
       "      <td>0.0</td>\n",
       "      <td>3.0</td>\n",
       "      <td>2.0</td>\n",
       "      <td>5.0</td>\n",
       "      <td>NaN</td>\n",
       "      <td>3.0</td>\n",
       "      <td>1.0</td>\n",
       "      <td>4.0</td>\n",
       "    </tr>\n",
       "    <tr>\n",
       "      <td>2483</td>\n",
       "      <td>Nigeria</td>\n",
       "      <td>2016-03-23</td>\n",
       "      <td>0.0</td>\n",
       "      <td>1.0</td>\n",
       "      <td>19.0</td>\n",
       "      <td>20.0</td>\n",
       "      <td>0.0</td>\n",
       "      <td>1.0</td>\n",
       "      <td>7.0</td>\n",
       "      <td>8.0</td>\n",
       "    </tr>\n",
       "    <tr>\n",
       "      <td>2484</td>\n",
       "      <td>United States of America</td>\n",
       "      <td>2016-03-23</td>\n",
       "      <td>0.0</td>\n",
       "      <td>0.0</td>\n",
       "      <td>4.0</td>\n",
       "      <td>4.0</td>\n",
       "      <td>0.0</td>\n",
       "      <td>0.0</td>\n",
       "      <td>1.0</td>\n",
       "      <td>1.0</td>\n",
       "    </tr>\n",
       "  </tbody>\n",
       "</table>\n",
       "<p>2485 rows × 10 columns</p>\n",
       "</div>"
      ],
      "text/plain": [
       "                       Country        Date  No. of suspected cases  \\\n",
       "0                       Guinea  2014-08-29                    25.0   \n",
       "1                      Nigeria  2014-08-29                     3.0   \n",
       "2                 Sierra Leone  2014-08-29                    54.0   \n",
       "3                      Liberia  2014-08-29                   382.0   \n",
       "4                 Sierra Leone  2014-09-05                    78.0   \n",
       "...                        ...         ...                     ...   \n",
       "2480                   Liberia  2016-03-23                  5636.0   \n",
       "2481                     Italy  2016-03-23                     0.0   \n",
       "2482                   Liberia  2016-03-23                     0.0   \n",
       "2483                   Nigeria  2016-03-23                     0.0   \n",
       "2484  United States of America  2016-03-23                     0.0   \n",
       "\n",
       "      No. of probable cases  No. of confirmed cases  \\\n",
       "0                     141.0                   482.0   \n",
       "1                       1.0                    15.0   \n",
       "2                      37.0                   935.0   \n",
       "3                     674.0                   322.0   \n",
       "4                      37.0                  1146.0   \n",
       "...                     ...                     ...   \n",
       "2480                 1879.0                  3151.0   \n",
       "2481                    0.0                     1.0   \n",
       "2482                    3.0                     2.0   \n",
       "2483                    1.0                    19.0   \n",
       "2484                    0.0                     4.0   \n",
       "\n",
       "      No. of confirmed, probable and suspected cases  No. of suspected deaths  \\\n",
       "0                                              648.0                      2.0   \n",
       "1                                               19.0                      0.0   \n",
       "2                                             1026.0                      8.0   \n",
       "3                                             1378.0                    168.0   \n",
       "4                                             1261.0                     11.0   \n",
       "...                                              ...                      ...   \n",
       "2480                                         10666.0                      NaN   \n",
       "2481                                             1.0                      NaN   \n",
       "2482                                             5.0                      NaN   \n",
       "2483                                            20.0                      0.0   \n",
       "2484                                             4.0                      0.0   \n",
       "\n",
       "      No. of probable deaths  No. of confirmed deaths  \\\n",
       "0                      141.0                    287.0   \n",
       "1                        1.0                      6.0   \n",
       "2                       34.0                    380.0   \n",
       "3                      301.0                    225.0   \n",
       "4                       37.0                    443.0   \n",
       "...                      ...                      ...   \n",
       "2480                     NaN                      NaN   \n",
       "2481                     NaN                      NaN   \n",
       "2482                     3.0                      1.0   \n",
       "2483                     1.0                      7.0   \n",
       "2484                     0.0                      1.0   \n",
       "\n",
       "      No. of confirmed, probable and suspected deaths  \n",
       "0                                               430.0  \n",
       "1                                                 7.0  \n",
       "2                                               422.0  \n",
       "3                                               694.0  \n",
       "4                                               491.0  \n",
       "...                                               ...  \n",
       "2480                                           4806.0  \n",
       "2481                                              0.0  \n",
       "2482                                              4.0  \n",
       "2483                                              8.0  \n",
       "2484                                              1.0  \n",
       "\n",
       "[2485 rows x 10 columns]"
      ]
     },
     "execution_count": 2,
     "metadata": {},
     "output_type": "execute_result"
    }
   ],
   "source": [
    "df"
   ]
  },
  {
   "cell_type": "code",
   "execution_count": 3,
   "metadata": {},
   "outputs": [],
   "source": [
    "countries = pd.Series(df['Country'].unique())"
   ]
  },
  {
   "cell_type": "code",
   "execution_count": 4,
   "metadata": {},
   "outputs": [],
   "source": [
    "def total_deaths(country):\n",
    "    filt = df['Country'] == country\n",
    "    Total_deaths = df[filt]['No. of confirmed, probable and suspected deaths'].max()\n",
    "    return Total_deaths\n",
    "\n",
    "Total_deaths = pd.Series(countries).apply(total_deaths)"
   ]
  },
  {
   "cell_type": "code",
   "execution_count": 5,
   "metadata": {},
   "outputs": [],
   "source": [
    "def total_cases(country):\n",
    "    filt = df['Country'] == country\n",
    "    Total_cases = df[filt]['No. of confirmed, probable and suspected cases'].max()\n",
    "    return Total_cases\n",
    "\n",
    "Total_cases = pd.Series(countries).apply(total_cases)"
   ]
  },
  {
   "cell_type": "code",
   "execution_count": 6,
   "metadata": {},
   "outputs": [
    {
     "data": {
      "text/plain": [
       "0    2536.0\n",
       "1       8.0\n",
       "2    3955.0\n",
       "3    4806.0\n",
       "4       0.0\n",
       "5       1.0\n",
       "6       0.0\n",
       "7       6.0\n",
       "8       0.0\n",
       "9       0.0\n",
       "dtype: float64"
      ]
     },
     "execution_count": 6,
     "metadata": {},
     "output_type": "execute_result"
    }
   ],
   "source": [
    "Total_deaths"
   ]
  },
  {
   "cell_type": "code",
   "execution_count": 7,
   "metadata": {},
   "outputs": [
    {
     "data": {
      "text/plain": [
       "0     3810.0\n",
       "1       22.0\n",
       "2    14122.0\n",
       "3    10666.0\n",
       "4        3.0\n",
       "5        4.0\n",
       "6        1.0\n",
       "7        8.0\n",
       "8        1.0\n",
       "9        1.0\n",
       "dtype: float64"
      ]
     },
     "execution_count": 7,
     "metadata": {},
     "output_type": "execute_result"
    }
   ],
   "source": [
    "Total_cases"
   ]
  },
  {
   "cell_type": "code",
   "execution_count": 8,
   "metadata": {},
   "outputs": [
    {
     "data": {
      "text/plain": [
       "array(['Guinea', 'Nigeria', 'Sierra Leone', 'Liberia', 'Senegal',\n",
       "       'United States of America', 'Spain', 'Mali', 'United Kingdom',\n",
       "       'Italy'], dtype=object)"
      ]
     },
     "execution_count": 8,
     "metadata": {},
     "output_type": "execute_result"
    }
   ],
   "source": [
    "df['Country'].unique()"
   ]
  },
  {
   "cell_type": "code",
   "execution_count": 9,
   "metadata": {},
   "outputs": [
    {
     "data": {
      "image/png": "[encoded data removed]",
      "text/plain": [
       "<Figure size 432x288 with 1 Axes>"
      ]
     },
     "metadata": {},
     "output_type": "display_data"
    }
   ],
   "source": [
    "plt.title('Deaths Vs Recoveries, Guinea')\n",
    "slices = [Total_deaths[0]/Total_cases[0], (Total_cases[0] - Total_deaths[0])/Total_cases[0]]\n",
    "plt.pie(slices, labels = ['deaths', 'Recoveries'], autopct = '%1.0f%%')\n",
    "plt.savefig('Deaths_Vs_Recoveries_Guinea.png')\n",
    "plt.show()"
   ]
  },
  {
   "cell_type": "code",
   "execution_count": 10,
   "metadata": {},
   "outputs": [
    {
     "data": {
      "image/png": "[encoded data removed]",
      "text/plain": [
       "<Figure size 432x288 with 1 Axes>"
      ]
     },
     "metadata": {},
     "output_type": "display_data"
    }
   ],
   "source": [
    "plt.title('Death Vs Recoveries, Nigeria')\n",
    "slices = [Total_deaths[1]/Total_cases[1], (Total_cases[1] - Total_deaths[1])/Total_cases[1]]\n",
    "plt.pie(slices, labels = ['deaths', 'Recoveries'], autopct = '%1.0f%%')\n",
    "plt.savefig('Deaths_Vs_Recoveries_Nigeria.png')\n",
    "plt.show()"
   ]
  },
  {
   "cell_type": "code",
   "execution_count": 11,
   "metadata": {},
   "outputs": [
    {
     "data": {
      "image/png": "[encoded data removed]",
      "text/plain": [
       "<Figure size 432x288 with 1 Axes>"
      ]
     },
     "metadata": {},
     "output_type": "display_data"
    }
   ],
   "source": [
    "plt.title('Death Vs Recoveries, Sierra Leone')\n",
    "slices = [Total_deaths[2]/Total_cases[2], (Total_cases[2] - Total_deaths[2])/Total_cases[2]]\n",
    "plt.pie(slices, labels = ['deaths', 'Recoveries'], autopct = '%1.0f%%')\n",
    "plt.savefig('Deaths_Vs_Recoveries_Sierra_Leone.png')\n",
    "plt.show()"
   ]
  },
  {
   "cell_type": "code",
   "execution_count": 12,
   "metadata": {},
   "outputs": [
    {
     "data": {
      "image/png": "[encoded data removed]",
      "text/plain": [
       "<Figure size 432x288 with 1 Axes>"
      ]
     },
     "metadata": {},
     "output_type": "display_data"
    }
   ],
   "source": [
    "plt.title('Death Vs Recoveries, Liberia')\n",
    "slices = [Total_deaths[3]/Total_cases[3], (Total_cases[3] - Total_deaths[3])/Total_cases[3]]\n",
    "plt.pie(slices, labels = ['deaths', 'Recoveries'], autopct = '%1.0f%%')\n",
    "plt.savefig('Deaths_Vs_Recoveries_Liberia.png')\n",
    "plt.show()"
   ]
  },
  {
   "cell_type": "code",
   "execution_count": 13,
   "metadata": {},
   "outputs": [
    {
     "data": {
      "image/png": "[encoded data removed]",
      "text/plain": [
       "<Figure size 432x288 with 1 Axes>"
      ]
     },
     "metadata": {},
     "output_type": "display_data"
    }
   ],
   "source": [
    "plt.title('Death Vs Recoveries, Senegal')\n",
    "slices = [Total_deaths[4]/Total_cases[4], (Total_cases[4] - Total_deaths[4])/Total_cases[4]]\n",
    "plt.pie(slices, labels = ['deaths', 'Recoveries'], autopct = '%1.0f%%')\n",
    "plt.savefig('Deaths_Vs_Recoveries_Senegal.png')\n",
    "plt.show()"
   ]
  },
  {
   "cell_type": "code",
   "execution_count": 14,
   "metadata": {},
   "outputs": [
    {
     "data": {
      "image/png": "[encoded data removed]",
      "text/plain": [
       "<Figure size 432x288 with 1 Axes>"
      ]
     },
     "metadata": {},
     "output_type": "display_data"
    }
   ],
   "source": [
    "plt.title('Death Vs Recoveries, United States of America')\n",
    "slices = [Total_deaths[5]/Total_cases[5], (Total_cases[5] - Total_deaths[5])/Total_cases[5]]\n",
    "plt.pie(slices, labels = ['deaths', 'Recoveries'], autopct = '%1.0f%%')\n",
    "plt.savefig('Deaths_Vs_Recoveries_United_States_of_America.png')\n",
    "plt.show()"
   ]
  },
  {
   "cell_type": "code",
   "execution_count": 15,
   "metadata": {},
   "outputs": [
    {
     "data": {
      "image/png": "[encoded data removed]",
      "text/plain": [
       "<Figure size 432x288 with 1 Axes>"
      ]
     },
     "metadata": {},
     "output_type": "display_data"
    }
   ],
   "source": [
    "plt.title('Death Vs Recoveries, Spain')\n",
    "slices = [Total_deaths[6]/Total_cases[6], (Total_cases[6] - Total_deaths[6])/Total_cases[6]]\n",
    "plt.pie(slices, labels = ['deaths', 'Recoveries'], autopct = '%1.0f%%')\n",
    "plt.savefig('Deaths_Vs_Recoveries_Spain.png')\n",
    "plt.show()"
   ]
  },
  {
   "cell_type": "code",
   "execution_count": 16,
   "metadata": {},
   "outputs": [
    {
     "data": {
      "image/png": "[encoded data removed]",
      "text/plain": [
       "<Figure size 432x288 with 1 Axes>"
      ]
     },
     "metadata": {},
     "output_type": "display_data"
    }
   ],
   "source": [
    "plt.title('Death Vs Recoveries, Mali')\n",
    "slices = [Total_deaths[7]/Total_cases[7], (Total_cases[7] - Total_deaths[7])/Total_cases[7]]\n",
    "plt.pie(slices, labels = ['deaths', 'Recoveries'], autopct = '%1.0f%%')\n",
    "plt.savefig('Deaths_Vs_Recoveries_Mali.png')\n",
    "plt.show()"
   ]
  },
  {
   "cell_type": "code",
   "execution_count": 17,
   "metadata": {},
   "outputs": [
    {
     "data": {
      "image/png": "[encoded data removed]",
      "text/plain": [
       "<Figure size 432x288 with 1 Axes>"
      ]
     },
     "metadata": {},
     "output_type": "display_data"
    }
   ],
   "source": [
    "plt.title('Death Vs Recoveries, United Kingdom')\n",
    "slices = [Total_deaths[8]/Total_cases[8], (Total_cases[8] - Total_deaths[8])/Total_cases[8]]\n",
    "plt.pie(slices, labels = ['deaths', 'Recoveries'], autopct = '%1.0f%%')\n",
    "plt.savefig('Deaths_Vs_Recoveries_United_Kingdom.png')\n",
    "plt.show()"
   ]
  },
  {
   "cell_type": "code",
   "execution_count": 18,
   "metadata": {},
   "outputs": [
    {
     "data": {
      "image/png": "[encoded data removed]",
      "text/plain": [
       "<Figure size 432x288 with 1 Axes>"
      ]
     },
     "metadata": {},
     "output_type": "display_data"
    }
   ],
   "source": [
    "plt.title('Death Vs Recoveries, Italy')\n",
    "slices = [Total_deaths[9]/Total_cases[9], (Total_cases[9] - Total_deaths[9])/Total_cases[9]]\n",
    "plt.pie(slices, labels = ['deaths', 'Recoveries'], autopct = '%1.0f%%')\n",
    "plt.savefig('Deaths_Vs_Recoveries_Italy.png')\n",
    "plt.show()"
   ]
  },
  {
   "cell_type": "code",
   "execution_count": 19,
   "metadata": {},
   "outputs": [
    {
     "data": {
      "text/plain": [
       "11312.0"
      ]
     },
     "execution_count": 19,
     "metadata": {},
     "output_type": "execute_result"
    }
   ],
   "source": [
    "Total_deaths.sum()"
   ]
  },
  {
   "cell_type": "code",
   "execution_count": 20,
   "metadata": {},
   "outputs": [
    {
     "data": {
      "text/plain": [
       "28638.0"
      ]
     },
     "execution_count": 20,
     "metadata": {},
     "output_type": "execute_result"
    }
   ],
   "source": [
    "Total_cases.sum()"
   ]
  },
  {
   "cell_type": "code",
   "execution_count": 21,
   "metadata": {},
   "outputs": [],
   "source": [
    "Total_death_percentage = [Total_deaths.sum()/Total_cases.sum(), (Total_cases.sum() - Total_deaths.sum())/Total_cases.sum()]"
   ]
  },
  {
   "cell_type": "code",
   "execution_count": 22,
   "metadata": {},
   "outputs": [
    {
     "data": {
      "text/plain": [
       "[0.3949996508136043, 0.6050003491863957]"
      ]
     },
     "execution_count": 22,
     "metadata": {},
     "output_type": "execute_result"
    }
   ],
   "source": [
    "Total_death_percentage"
   ]
  },
  {
   "cell_type": "code",
   "execution_count": 23,
   "metadata": {},
   "outputs": [
    {
     "data": {
      "image/png": "[encoded data removed]",
      "text/plain": [
       "<Figure size 432x288 with 1 Axes>"
      ]
     },
     "metadata": {},
     "output_type": "display_data"
    }
   ],
   "source": [
    "plt.title('Death Vs Recoveries, World')\n",
    "plt.pie(Total_death_percentage, labels = ['deaths', 'Recoveries'], autopct = '%1.0f%%')\n",
    "plt.savefig('Deaths_Vs_Recoveries_World.png')\n",
    "plt.show()"
   ]
  }
 ],
 "metadata": {
  "kernelspec": {
   "display_name": "Python 3",
   "language": "python",
   "name": "python3"
  },
  "language_info": {
   "codemirror_mode": {
    "name": "ipython",
    "version": 3
   },
   "file_extension": ".py",
   "mimetype": "text/x-python",
   "name": "python",
   "nbconvert_exporter": "python",
   "pygments_lexer": "ipython3",
   "version": "3.7.4"
  }
 },
 "nbformat": 4,
 "nbformat_minor": 4
}
