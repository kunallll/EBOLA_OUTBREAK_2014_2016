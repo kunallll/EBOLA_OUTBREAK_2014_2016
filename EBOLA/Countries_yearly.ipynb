{
 "cells": [
  {
   "cell_type": "code",
   "execution_count": 499,
   "metadata": {},
   "outputs": [],
   "source": [
    "import pandas as pd\n",
    "df = pd.read_csv('ebola_2014_2016_clean.csv')"
   ]
  },
  {
   "cell_type": "code",
   "execution_count": 500,
   "metadata": {},
   "outputs": [
    {
     "data": {
      "text/html": [
       "<div>\n",
       "<style scoped>\n",
       "    .dataframe tbody tr th:only-of-type {\n",
       "        vertical-align: middle;\n",
       "    }\n",
       "\n",
       "    .dataframe tbody tr th {\n",
       "        vertical-align: top;\n",
       "    }\n",
       "\n",
       "    .dataframe thead th {\n",
       "        text-align: right;\n",
       "    }\n",
       "</style>\n",
       "<table border=\"1\" class=\"dataframe\">\n",
       "  <thead>\n",
       "    <tr style=\"text-align: right;\">\n",
       "      <th></th>\n",
       "      <th>Country</th>\n",
       "      <th>Date</th>\n",
       "      <th>No. of suspected cases</th>\n",
       "      <th>No. of probable cases</th>\n",
       "      <th>No. of confirmed cases</th>\n",
       "      <th>No. of confirmed, probable and suspected cases</th>\n",
       "      <th>No. of suspected deaths</th>\n",
       "      <th>No. of probable deaths</th>\n",
       "      <th>No. of confirmed deaths</th>\n",
       "      <th>No. of confirmed, probable and suspected deaths</th>\n",
       "    </tr>\n",
       "  </thead>\n",
       "  <tbody>\n",
       "    <tr>\n",
       "      <td>0</td>\n",
       "      <td>Guinea</td>\n",
       "      <td>2014-08-29</td>\n",
       "      <td>25.0</td>\n",
       "      <td>141.0</td>\n",
       "      <td>482.0</td>\n",
       "      <td>648.0</td>\n",
       "      <td>2.0</td>\n",
       "      <td>141.0</td>\n",
       "      <td>287.0</td>\n",
       "      <td>430.0</td>\n",
       "    </tr>\n",
       "    <tr>\n",
       "      <td>1</td>\n",
       "      <td>Nigeria</td>\n",
       "      <td>2014-08-29</td>\n",
       "      <td>3.0</td>\n",
       "      <td>1.0</td>\n",
       "      <td>15.0</td>\n",
       "      <td>19.0</td>\n",
       "      <td>0.0</td>\n",
       "      <td>1.0</td>\n",
       "      <td>6.0</td>\n",
       "      <td>7.0</td>\n",
       "    </tr>\n",
       "    <tr>\n",
       "      <td>2</td>\n",
       "      <td>Sierra Leone</td>\n",
       "      <td>2014-08-29</td>\n",
       "      <td>54.0</td>\n",
       "      <td>37.0</td>\n",
       "      <td>935.0</td>\n",
       "      <td>1026.0</td>\n",
       "      <td>8.0</td>\n",
       "      <td>34.0</td>\n",
       "      <td>380.0</td>\n",
       "      <td>422.0</td>\n",
       "    </tr>\n",
       "    <tr>\n",
       "      <td>3</td>\n",
       "      <td>Liberia</td>\n",
       "      <td>2014-08-29</td>\n",
       "      <td>382.0</td>\n",
       "      <td>674.0</td>\n",
       "      <td>322.0</td>\n",
       "      <td>1378.0</td>\n",
       "      <td>168.0</td>\n",
       "      <td>301.0</td>\n",
       "      <td>225.0</td>\n",
       "      <td>694.0</td>\n",
       "    </tr>\n",
       "    <tr>\n",
       "      <td>4</td>\n",
       "      <td>Sierra Leone</td>\n",
       "      <td>2014-09-05</td>\n",
       "      <td>78.0</td>\n",
       "      <td>37.0</td>\n",
       "      <td>1146.0</td>\n",
       "      <td>1261.0</td>\n",
       "      <td>11.0</td>\n",
       "      <td>37.0</td>\n",
       "      <td>443.0</td>\n",
       "      <td>491.0</td>\n",
       "    </tr>\n",
       "    <tr>\n",
       "      <td>...</td>\n",
       "      <td>...</td>\n",
       "      <td>...</td>\n",
       "      <td>...</td>\n",
       "      <td>...</td>\n",
       "      <td>...</td>\n",
       "      <td>...</td>\n",
       "      <td>...</td>\n",
       "      <td>...</td>\n",
       "      <td>...</td>\n",
       "      <td>...</td>\n",
       "    </tr>\n",
       "    <tr>\n",
       "      <td>2480</td>\n",
       "      <td>Liberia</td>\n",
       "      <td>2016-03-23</td>\n",
       "      <td>5636.0</td>\n",
       "      <td>1879.0</td>\n",
       "      <td>3151.0</td>\n",
       "      <td>10666.0</td>\n",
       "      <td>NaN</td>\n",
       "      <td>NaN</td>\n",
       "      <td>NaN</td>\n",
       "      <td>4806.0</td>\n",
       "    </tr>\n",
       "    <tr>\n",
       "      <td>2481</td>\n",
       "      <td>Italy</td>\n",
       "      <td>2016-03-23</td>\n",
       "      <td>0.0</td>\n",
       "      <td>0.0</td>\n",
       "      <td>1.0</td>\n",
       "      <td>1.0</td>\n",
       "      <td>NaN</td>\n",
       "      <td>NaN</td>\n",
       "      <td>NaN</td>\n",
       "      <td>0.0</td>\n",
       "    </tr>\n",
       "    <tr>\n",
       "      <td>2482</td>\n",
       "      <td>Liberia</td>\n",
       "      <td>2016-03-23</td>\n",
       "      <td>0.0</td>\n",
       "      <td>3.0</td>\n",
       "      <td>2.0</td>\n",
       "      <td>5.0</td>\n",
       "      <td>NaN</td>\n",
       "      <td>3.0</td>\n",
       "      <td>1.0</td>\n",
       "      <td>4.0</td>\n",
       "    </tr>\n",
       "    <tr>\n",
       "      <td>2483</td>\n",
       "      <td>Nigeria</td>\n",
       "      <td>2016-03-23</td>\n",
       "      <td>0.0</td>\n",
       "      <td>1.0</td>\n",
       "      <td>19.0</td>\n",
       "      <td>20.0</td>\n",
       "      <td>0.0</td>\n",
       "      <td>1.0</td>\n",
       "      <td>7.0</td>\n",
       "      <td>8.0</td>\n",
       "    </tr>\n",
       "    <tr>\n",
       "      <td>2484</td>\n",
       "      <td>United States of America</td>\n",
       "      <td>2016-03-23</td>\n",
       "      <td>0.0</td>\n",
       "      <td>0.0</td>\n",
       "      <td>4.0</td>\n",
       "      <td>4.0</td>\n",
       "      <td>0.0</td>\n",
       "      <td>0.0</td>\n",
       "      <td>1.0</td>\n",
       "      <td>1.0</td>\n",
       "    </tr>\n",
       "  </tbody>\n",
       "</table>\n",
       "<p>2485 rows × 10 columns</p>\n",
       "</div>"
      ],
      "text/plain": [
       "                       Country        Date  No. of suspected cases  \\\n",
       "0                       Guinea  2014-08-29                    25.0   \n",
       "1                      Nigeria  2014-08-29                     3.0   \n",
       "2                 Sierra Leone  2014-08-29                    54.0   \n",
       "3                      Liberia  2014-08-29                   382.0   \n",
       "4                 Sierra Leone  2014-09-05                    78.0   \n",
       "...                        ...         ...                     ...   \n",
       "2480                   Liberia  2016-03-23                  5636.0   \n",
       "2481                     Italy  2016-03-23                     0.0   \n",
       "2482                   Liberia  2016-03-23                     0.0   \n",
       "2483                   Nigeria  2016-03-23                     0.0   \n",
       "2484  United States of America  2016-03-23                     0.0   \n",
       "\n",
       "      No. of probable cases  No. of confirmed cases  \\\n",
       "0                     141.0                   482.0   \n",
       "1                       1.0                    15.0   \n",
       "2                      37.0                   935.0   \n",
       "3                     674.0                   322.0   \n",
       "4                      37.0                  1146.0   \n",
       "...                     ...                     ...   \n",
       "2480                 1879.0                  3151.0   \n",
       "2481                    0.0                     1.0   \n",
       "2482                    3.0                     2.0   \n",
       "2483                    1.0                    19.0   \n",
       "2484                    0.0                     4.0   \n",
       "\n",
       "      No. of confirmed, probable and suspected cases  No. of suspected deaths  \\\n",
       "0                                              648.0                      2.0   \n",
       "1                                               19.0                      0.0   \n",
       "2                                             1026.0                      8.0   \n",
       "3                                             1378.0                    168.0   \n",
       "4                                             1261.0                     11.0   \n",
       "...                                              ...                      ...   \n",
       "2480                                         10666.0                      NaN   \n",
       "2481                                             1.0                      NaN   \n",
       "2482                                             5.0                      NaN   \n",
       "2483                                            20.0                      0.0   \n",
       "2484                                             4.0                      0.0   \n",
       "\n",
       "      No. of probable deaths  No. of confirmed deaths  \\\n",
       "0                      141.0                    287.0   \n",
       "1                        1.0                      6.0   \n",
       "2                       34.0                    380.0   \n",
       "3                      301.0                    225.0   \n",
       "4                       37.0                    443.0   \n",
       "...                      ...                      ...   \n",
       "2480                     NaN                      NaN   \n",
       "2481                     NaN                      NaN   \n",
       "2482                     3.0                      1.0   \n",
       "2483                     1.0                      7.0   \n",
       "2484                     0.0                      1.0   \n",
       "\n",
       "      No. of confirmed, probable and suspected deaths  \n",
       "0                                               430.0  \n",
       "1                                                 7.0  \n",
       "2                                               422.0  \n",
       "3                                               694.0  \n",
       "4                                               491.0  \n",
       "...                                               ...  \n",
       "2480                                           4806.0  \n",
       "2481                                              0.0  \n",
       "2482                                              4.0  \n",
       "2483                                              8.0  \n",
       "2484                                              1.0  \n",
       "\n",
       "[2485 rows x 10 columns]"
      ]
     },
     "execution_count": 500,
     "metadata": {},
     "output_type": "execute_result"
    }
   ],
   "source": [
    "df"
   ]
  },
  {
   "cell_type": "code",
   "execution_count": 501,
   "metadata": {},
   "outputs": [
    {
     "data": {
      "text/plain": [
       "'2014'"
      ]
     },
     "execution_count": 501,
     "metadata": {},
     "output_type": "execute_result"
    }
   ],
   "source": [
    "df['Date'][0][0:4]"
   ]
  },
  {
   "cell_type": "code",
   "execution_count": 502,
   "metadata": {},
   "outputs": [],
   "source": [
    "years = pd.Series(df['Date'])"
   ]
  },
  {
   "cell_type": "code",
   "execution_count": 503,
   "metadata": {},
   "outputs": [
    {
     "data": {
      "text/plain": [
       "0       2014-08-29\n",
       "1       2014-08-29\n",
       "2       2014-08-29\n",
       "3       2014-08-29\n",
       "4       2014-09-05\n",
       "           ...    \n",
       "2480    2016-03-23\n",
       "2481    2016-03-23\n",
       "2482    2016-03-23\n",
       "2483    2016-03-23\n",
       "2484    2016-03-23\n",
       "Name: Date, Length: 2485, dtype: object"
      ]
     },
     "execution_count": 503,
     "metadata": {},
     "output_type": "execute_result"
    }
   ],
   "source": [
    "years"
   ]
  },
  {
   "cell_type": "code",
   "execution_count": 504,
   "metadata": {},
   "outputs": [],
   "source": [
    "def sep_year(year):\n",
    "    year_list = []\n",
    "    year_list = year[0:4]\n",
    "    return year_list"
   ]
  },
  {
   "cell_type": "code",
   "execution_count": 505,
   "metadata": {},
   "outputs": [],
   "source": [
    "df['Year'] = list(years.apply(sep_year))"
   ]
  },
  {
   "cell_type": "code",
   "execution_count": 506,
   "metadata": {},
   "outputs": [
    {
     "data": {
      "text/plain": [
       "0       2014\n",
       "1       2014\n",
       "2       2014\n",
       "3       2014\n",
       "4       2014\n",
       "        ... \n",
       "2480    2016\n",
       "2481    2016\n",
       "2482    2016\n",
       "2483    2016\n",
       "2484    2016\n",
       "Name: Year, Length: 2485, dtype: object"
      ]
     },
     "execution_count": 506,
     "metadata": {},
     "output_type": "execute_result"
    }
   ],
   "source": [
    "df['Year']"
   ]
  },
  {
   "cell_type": "code",
   "execution_count": 507,
   "metadata": {},
   "outputs": [
    {
     "data": {
      "text/html": [
       "<div>\n",
       "<style scoped>\n",
       "    .dataframe tbody tr th:only-of-type {\n",
       "        vertical-align: middle;\n",
       "    }\n",
       "\n",
       "    .dataframe tbody tr th {\n",
       "        vertical-align: top;\n",
       "    }\n",
       "\n",
       "    .dataframe thead th {\n",
       "        text-align: right;\n",
       "    }\n",
       "</style>\n",
       "<table border=\"1\" class=\"dataframe\">\n",
       "  <thead>\n",
       "    <tr style=\"text-align: right;\">\n",
       "      <th></th>\n",
       "      <th>Country</th>\n",
       "      <th>Date</th>\n",
       "      <th>No. of suspected cases</th>\n",
       "      <th>No. of probable cases</th>\n",
       "      <th>No. of confirmed cases</th>\n",
       "      <th>No. of confirmed, probable and suspected cases</th>\n",
       "      <th>No. of suspected deaths</th>\n",
       "      <th>No. of probable deaths</th>\n",
       "      <th>No. of confirmed deaths</th>\n",
       "      <th>No. of confirmed, probable and suspected deaths</th>\n",
       "      <th>Year</th>\n",
       "    </tr>\n",
       "  </thead>\n",
       "  <tbody>\n",
       "    <tr>\n",
       "      <td>0</td>\n",
       "      <td>Guinea</td>\n",
       "      <td>2014-08-29</td>\n",
       "      <td>25.0</td>\n",
       "      <td>141.0</td>\n",
       "      <td>482.0</td>\n",
       "      <td>648.0</td>\n",
       "      <td>2.0</td>\n",
       "      <td>141.0</td>\n",
       "      <td>287.0</td>\n",
       "      <td>430.0</td>\n",
       "      <td>2014</td>\n",
       "    </tr>\n",
       "    <tr>\n",
       "      <td>1</td>\n",
       "      <td>Nigeria</td>\n",
       "      <td>2014-08-29</td>\n",
       "      <td>3.0</td>\n",
       "      <td>1.0</td>\n",
       "      <td>15.0</td>\n",
       "      <td>19.0</td>\n",
       "      <td>0.0</td>\n",
       "      <td>1.0</td>\n",
       "      <td>6.0</td>\n",
       "      <td>7.0</td>\n",
       "      <td>2014</td>\n",
       "    </tr>\n",
       "    <tr>\n",
       "      <td>2</td>\n",
       "      <td>Sierra Leone</td>\n",
       "      <td>2014-08-29</td>\n",
       "      <td>54.0</td>\n",
       "      <td>37.0</td>\n",
       "      <td>935.0</td>\n",
       "      <td>1026.0</td>\n",
       "      <td>8.0</td>\n",
       "      <td>34.0</td>\n",
       "      <td>380.0</td>\n",
       "      <td>422.0</td>\n",
       "      <td>2014</td>\n",
       "    </tr>\n",
       "    <tr>\n",
       "      <td>3</td>\n",
       "      <td>Liberia</td>\n",
       "      <td>2014-08-29</td>\n",
       "      <td>382.0</td>\n",
       "      <td>674.0</td>\n",
       "      <td>322.0</td>\n",
       "      <td>1378.0</td>\n",
       "      <td>168.0</td>\n",
       "      <td>301.0</td>\n",
       "      <td>225.0</td>\n",
       "      <td>694.0</td>\n",
       "      <td>2014</td>\n",
       "    </tr>\n",
       "    <tr>\n",
       "      <td>4</td>\n",
       "      <td>Sierra Leone</td>\n",
       "      <td>2014-09-05</td>\n",
       "      <td>78.0</td>\n",
       "      <td>37.0</td>\n",
       "      <td>1146.0</td>\n",
       "      <td>1261.0</td>\n",
       "      <td>11.0</td>\n",
       "      <td>37.0</td>\n",
       "      <td>443.0</td>\n",
       "      <td>491.0</td>\n",
       "      <td>2014</td>\n",
       "    </tr>\n",
       "    <tr>\n",
       "      <td>...</td>\n",
       "      <td>...</td>\n",
       "      <td>...</td>\n",
       "      <td>...</td>\n",
       "      <td>...</td>\n",
       "      <td>...</td>\n",
       "      <td>...</td>\n",
       "      <td>...</td>\n",
       "      <td>...</td>\n",
       "      <td>...</td>\n",
       "      <td>...</td>\n",
       "      <td>...</td>\n",
       "    </tr>\n",
       "    <tr>\n",
       "      <td>2480</td>\n",
       "      <td>Liberia</td>\n",
       "      <td>2016-03-23</td>\n",
       "      <td>5636.0</td>\n",
       "      <td>1879.0</td>\n",
       "      <td>3151.0</td>\n",
       "      <td>10666.0</td>\n",
       "      <td>NaN</td>\n",
       "      <td>NaN</td>\n",
       "      <td>NaN</td>\n",
       "      <td>4806.0</td>\n",
       "      <td>2016</td>\n",
       "    </tr>\n",
       "    <tr>\n",
       "      <td>2481</td>\n",
       "      <td>Italy</td>\n",
       "      <td>2016-03-23</td>\n",
       "      <td>0.0</td>\n",
       "      <td>0.0</td>\n",
       "      <td>1.0</td>\n",
       "      <td>1.0</td>\n",
       "      <td>NaN</td>\n",
       "      <td>NaN</td>\n",
       "      <td>NaN</td>\n",
       "      <td>0.0</td>\n",
       "      <td>2016</td>\n",
       "    </tr>\n",
       "    <tr>\n",
       "      <td>2482</td>\n",
       "      <td>Liberia</td>\n",
       "      <td>2016-03-23</td>\n",
       "      <td>0.0</td>\n",
       "      <td>3.0</td>\n",
       "      <td>2.0</td>\n",
       "      <td>5.0</td>\n",
       "      <td>NaN</td>\n",
       "      <td>3.0</td>\n",
       "      <td>1.0</td>\n",
       "      <td>4.0</td>\n",
       "      <td>2016</td>\n",
       "    </tr>\n",
       "    <tr>\n",
       "      <td>2483</td>\n",
       "      <td>Nigeria</td>\n",
       "      <td>2016-03-23</td>\n",
       "      <td>0.0</td>\n",
       "      <td>1.0</td>\n",
       "      <td>19.0</td>\n",
       "      <td>20.0</td>\n",
       "      <td>0.0</td>\n",
       "      <td>1.0</td>\n",
       "      <td>7.0</td>\n",
       "      <td>8.0</td>\n",
       "      <td>2016</td>\n",
       "    </tr>\n",
       "    <tr>\n",
       "      <td>2484</td>\n",
       "      <td>United States of America</td>\n",
       "      <td>2016-03-23</td>\n",
       "      <td>0.0</td>\n",
       "      <td>0.0</td>\n",
       "      <td>4.0</td>\n",
       "      <td>4.0</td>\n",
       "      <td>0.0</td>\n",
       "      <td>0.0</td>\n",
       "      <td>1.0</td>\n",
       "      <td>1.0</td>\n",
       "      <td>2016</td>\n",
       "    </tr>\n",
       "  </tbody>\n",
       "</table>\n",
       "<p>2485 rows × 11 columns</p>\n",
       "</div>"
      ],
      "text/plain": [
       "                       Country        Date  No. of suspected cases  \\\n",
       "0                       Guinea  2014-08-29                    25.0   \n",
       "1                      Nigeria  2014-08-29                     3.0   \n",
       "2                 Sierra Leone  2014-08-29                    54.0   \n",
       "3                      Liberia  2014-08-29                   382.0   \n",
       "4                 Sierra Leone  2014-09-05                    78.0   \n",
       "...                        ...         ...                     ...   \n",
       "2480                   Liberia  2016-03-23                  5636.0   \n",
       "2481                     Italy  2016-03-23                     0.0   \n",
       "2482                   Liberia  2016-03-23                     0.0   \n",
       "2483                   Nigeria  2016-03-23                     0.0   \n",
       "2484  United States of America  2016-03-23                     0.0   \n",
       "\n",
       "      No. of probable cases  No. of confirmed cases  \\\n",
       "0                     141.0                   482.0   \n",
       "1                       1.0                    15.0   \n",
       "2                      37.0                   935.0   \n",
       "3                     674.0                   322.0   \n",
       "4                      37.0                  1146.0   \n",
       "...                     ...                     ...   \n",
       "2480                 1879.0                  3151.0   \n",
       "2481                    0.0                     1.0   \n",
       "2482                    3.0                     2.0   \n",
       "2483                    1.0                    19.0   \n",
       "2484                    0.0                     4.0   \n",
       "\n",
       "      No. of confirmed, probable and suspected cases  No. of suspected deaths  \\\n",
       "0                                              648.0                      2.0   \n",
       "1                                               19.0                      0.0   \n",
       "2                                             1026.0                      8.0   \n",
       "3                                             1378.0                    168.0   \n",
       "4                                             1261.0                     11.0   \n",
       "...                                              ...                      ...   \n",
       "2480                                         10666.0                      NaN   \n",
       "2481                                             1.0                      NaN   \n",
       "2482                                             5.0                      NaN   \n",
       "2483                                            20.0                      0.0   \n",
       "2484                                             4.0                      0.0   \n",
       "\n",
       "      No. of probable deaths  No. of confirmed deaths  \\\n",
       "0                      141.0                    287.0   \n",
       "1                        1.0                      6.0   \n",
       "2                       34.0                    380.0   \n",
       "3                      301.0                    225.0   \n",
       "4                       37.0                    443.0   \n",
       "...                      ...                      ...   \n",
       "2480                     NaN                      NaN   \n",
       "2481                     NaN                      NaN   \n",
       "2482                     3.0                      1.0   \n",
       "2483                     1.0                      7.0   \n",
       "2484                     0.0                      1.0   \n",
       "\n",
       "      No. of confirmed, probable and suspected deaths  Year  \n",
       "0                                               430.0  2014  \n",
       "1                                                 7.0  2014  \n",
       "2                                               422.0  2014  \n",
       "3                                               694.0  2014  \n",
       "4                                               491.0  2014  \n",
       "...                                               ...   ...  \n",
       "2480                                           4806.0  2016  \n",
       "2481                                              0.0  2016  \n",
       "2482                                              4.0  2016  \n",
       "2483                                              8.0  2016  \n",
       "2484                                              1.0  2016  \n",
       "\n",
       "[2485 rows x 11 columns]"
      ]
     },
     "execution_count": 507,
     "metadata": {},
     "output_type": "execute_result"
    }
   ],
   "source": [
    "df"
   ]
  },
  {
   "cell_type": "code",
   "execution_count": 508,
   "metadata": {},
   "outputs": [
    {
     "data": {
      "text/html": [
       "<div>\n",
       "<style scoped>\n",
       "    .dataframe tbody tr th:only-of-type {\n",
       "        vertical-align: middle;\n",
       "    }\n",
       "\n",
       "    .dataframe tbody tr th {\n",
       "        vertical-align: top;\n",
       "    }\n",
       "\n",
       "    .dataframe thead th {\n",
       "        text-align: right;\n",
       "    }\n",
       "</style>\n",
       "<table border=\"1\" class=\"dataframe\">\n",
       "  <thead>\n",
       "    <tr style=\"text-align: right;\">\n",
       "      <th></th>\n",
       "      <th>Country</th>\n",
       "      <th>Date</th>\n",
       "      <th>No. of suspected cases</th>\n",
       "      <th>No. of probable cases</th>\n",
       "      <th>No. of confirmed cases</th>\n",
       "      <th>No. of confirmed, probable and suspected cases</th>\n",
       "      <th>No. of suspected deaths</th>\n",
       "      <th>No. of probable deaths</th>\n",
       "      <th>No. of confirmed deaths</th>\n",
       "      <th>No. of confirmed, probable and suspected deaths</th>\n",
       "      <th>Year</th>\n",
       "    </tr>\n",
       "  </thead>\n",
       "  <tbody>\n",
       "    <tr>\n",
       "      <td>0</td>\n",
       "      <td>Guinea</td>\n",
       "      <td>2014-08-29</td>\n",
       "      <td>25.0</td>\n",
       "      <td>141.0</td>\n",
       "      <td>482.0</td>\n",
       "      <td>648.0</td>\n",
       "      <td>2.0</td>\n",
       "      <td>141.0</td>\n",
       "      <td>287.0</td>\n",
       "      <td>430.0</td>\n",
       "      <td>2014</td>\n",
       "    </tr>\n",
       "    <tr>\n",
       "      <td>7</td>\n",
       "      <td>Guinea</td>\n",
       "      <td>2014-09-05</td>\n",
       "      <td>56.0</td>\n",
       "      <td>152.0</td>\n",
       "      <td>604.0</td>\n",
       "      <td>812.0</td>\n",
       "      <td>3.0</td>\n",
       "      <td>152.0</td>\n",
       "      <td>362.0</td>\n",
       "      <td>517.0</td>\n",
       "      <td>2014</td>\n",
       "    </tr>\n",
       "    <tr>\n",
       "      <td>10</td>\n",
       "      <td>Guinea</td>\n",
       "      <td>2014-09-08</td>\n",
       "      <td>47.0</td>\n",
       "      <td>151.0</td>\n",
       "      <td>664.0</td>\n",
       "      <td>862.0</td>\n",
       "      <td>4.0</td>\n",
       "      <td>151.0</td>\n",
       "      <td>400.0</td>\n",
       "      <td>555.0</td>\n",
       "      <td>2014</td>\n",
       "    </tr>\n",
       "    <tr>\n",
       "      <td>14</td>\n",
       "      <td>Guinea</td>\n",
       "      <td>2014-09-12</td>\n",
       "      <td>32.0</td>\n",
       "      <td>151.0</td>\n",
       "      <td>678.0</td>\n",
       "      <td>861.0</td>\n",
       "      <td>4.0</td>\n",
       "      <td>150.0</td>\n",
       "      <td>403.0</td>\n",
       "      <td>557.0</td>\n",
       "      <td>2014</td>\n",
       "    </tr>\n",
       "    <tr>\n",
       "      <td>21</td>\n",
       "      <td>Guinea</td>\n",
       "      <td>2014-09-16</td>\n",
       "      <td>31.0</td>\n",
       "      <td>162.0</td>\n",
       "      <td>743.0</td>\n",
       "      <td>936.0</td>\n",
       "      <td>4.0</td>\n",
       "      <td>162.0</td>\n",
       "      <td>429.0</td>\n",
       "      <td>595.0</td>\n",
       "      <td>2014</td>\n",
       "    </tr>\n",
       "    <tr>\n",
       "      <td>...</td>\n",
       "      <td>...</td>\n",
       "      <td>...</td>\n",
       "      <td>...</td>\n",
       "      <td>...</td>\n",
       "      <td>...</td>\n",
       "      <td>...</td>\n",
       "      <td>...</td>\n",
       "      <td>...</td>\n",
       "      <td>...</td>\n",
       "      <td>...</td>\n",
       "      <td>...</td>\n",
       "    </tr>\n",
       "    <tr>\n",
       "      <td>2436</td>\n",
       "      <td>Guinea</td>\n",
       "      <td>2015-12-17</td>\n",
       "      <td>1.0</td>\n",
       "      <td>453.0</td>\n",
       "      <td>3351.0</td>\n",
       "      <td>3805.0</td>\n",
       "      <td>NaN</td>\n",
       "      <td>453.0</td>\n",
       "      <td>2083.0</td>\n",
       "      <td>2536.0</td>\n",
       "      <td>2015</td>\n",
       "    </tr>\n",
       "    <tr>\n",
       "      <td>2441</td>\n",
       "      <td>Guinea</td>\n",
       "      <td>2015-12-22</td>\n",
       "      <td>0.0</td>\n",
       "      <td>453.0</td>\n",
       "      <td>3351.0</td>\n",
       "      <td>3804.0</td>\n",
       "      <td>NaN</td>\n",
       "      <td>453.0</td>\n",
       "      <td>2083.0</td>\n",
       "      <td>2536.0</td>\n",
       "      <td>2015</td>\n",
       "    </tr>\n",
       "    <tr>\n",
       "      <td>2453</td>\n",
       "      <td>Guinea</td>\n",
       "      <td>2015-12-23</td>\n",
       "      <td>0.0</td>\n",
       "      <td>453.0</td>\n",
       "      <td>3351.0</td>\n",
       "      <td>3804.0</td>\n",
       "      <td>NaN</td>\n",
       "      <td>453.0</td>\n",
       "      <td>2083.0</td>\n",
       "      <td>2536.0</td>\n",
       "      <td>2015</td>\n",
       "    </tr>\n",
       "    <tr>\n",
       "      <td>2469</td>\n",
       "      <td>Guinea</td>\n",
       "      <td>2015-12-29</td>\n",
       "      <td>0.0</td>\n",
       "      <td>453.0</td>\n",
       "      <td>3351.0</td>\n",
       "      <td>3804.0</td>\n",
       "      <td>NaN</td>\n",
       "      <td>453.0</td>\n",
       "      <td>2083.0</td>\n",
       "      <td>2536.0</td>\n",
       "      <td>2015</td>\n",
       "    </tr>\n",
       "    <tr>\n",
       "      <td>2473</td>\n",
       "      <td>Guinea</td>\n",
       "      <td>2016-03-23</td>\n",
       "      <td>0.0</td>\n",
       "      <td>453.0</td>\n",
       "      <td>3351.0</td>\n",
       "      <td>3804.0</td>\n",
       "      <td>NaN</td>\n",
       "      <td>453.0</td>\n",
       "      <td>2083.0</td>\n",
       "      <td>2536.0</td>\n",
       "      <td>2016</td>\n",
       "    </tr>\n",
       "  </tbody>\n",
       "</table>\n",
       "<p>259 rows × 11 columns</p>\n",
       "</div>"
      ],
      "text/plain": [
       "     Country        Date  No. of suspected cases  No. of probable cases  \\\n",
       "0     Guinea  2014-08-29                    25.0                  141.0   \n",
       "7     Guinea  2014-09-05                    56.0                  152.0   \n",
       "10    Guinea  2014-09-08                    47.0                  151.0   \n",
       "14    Guinea  2014-09-12                    32.0                  151.0   \n",
       "21    Guinea  2014-09-16                    31.0                  162.0   \n",
       "...      ...         ...                     ...                    ...   \n",
       "2436  Guinea  2015-12-17                     1.0                  453.0   \n",
       "2441  Guinea  2015-12-22                     0.0                  453.0   \n",
       "2453  Guinea  2015-12-23                     0.0                  453.0   \n",
       "2469  Guinea  2015-12-29                     0.0                  453.0   \n",
       "2473  Guinea  2016-03-23                     0.0                  453.0   \n",
       "\n",
       "      No. of confirmed cases  No. of confirmed, probable and suspected cases  \\\n",
       "0                      482.0                                           648.0   \n",
       "7                      604.0                                           812.0   \n",
       "10                     664.0                                           862.0   \n",
       "14                     678.0                                           861.0   \n",
       "21                     743.0                                           936.0   \n",
       "...                      ...                                             ...   \n",
       "2436                  3351.0                                          3805.0   \n",
       "2441                  3351.0                                          3804.0   \n",
       "2453                  3351.0                                          3804.0   \n",
       "2469                  3351.0                                          3804.0   \n",
       "2473                  3351.0                                          3804.0   \n",
       "\n",
       "      No. of suspected deaths  No. of probable deaths  \\\n",
       "0                         2.0                   141.0   \n",
       "7                         3.0                   152.0   \n",
       "10                        4.0                   151.0   \n",
       "14                        4.0                   150.0   \n",
       "21                        4.0                   162.0   \n",
       "...                       ...                     ...   \n",
       "2436                      NaN                   453.0   \n",
       "2441                      NaN                   453.0   \n",
       "2453                      NaN                   453.0   \n",
       "2469                      NaN                   453.0   \n",
       "2473                      NaN                   453.0   \n",
       "\n",
       "      No. of confirmed deaths  \\\n",
       "0                       287.0   \n",
       "7                       362.0   \n",
       "10                      400.0   \n",
       "14                      403.0   \n",
       "21                      429.0   \n",
       "...                       ...   \n",
       "2436                   2083.0   \n",
       "2441                   2083.0   \n",
       "2453                   2083.0   \n",
       "2469                   2083.0   \n",
       "2473                   2083.0   \n",
       "\n",
       "      No. of confirmed, probable and suspected deaths  Year  \n",
       "0                                               430.0  2014  \n",
       "7                                               517.0  2014  \n",
       "10                                              555.0  2014  \n",
       "14                                              557.0  2014  \n",
       "21                                              595.0  2014  \n",
       "...                                               ...   ...  \n",
       "2436                                           2536.0  2015  \n",
       "2441                                           2536.0  2015  \n",
       "2453                                           2536.0  2015  \n",
       "2469                                           2536.0  2015  \n",
       "2473                                           2536.0  2016  \n",
       "\n",
       "[259 rows x 11 columns]"
      ]
     },
     "execution_count": 508,
     "metadata": {},
     "output_type": "execute_result"
    }
   ],
   "source": [
    "filt_Guinea = df['Country'] == 'Guinea'\n",
    "df[filt_Guinea]"
   ]
  },
  {
   "cell_type": "code",
   "execution_count": 509,
   "metadata": {},
   "outputs": [
    {
     "name": "stderr",
     "output_type": "stream",
     "text": [
      "C:\\Users\\Asus\\Anaconda3\\lib\\site-packages\\ipykernel_launcher.py:1: UserWarning: Boolean Series key will be reindexed to match DataFrame index.\n",
      "  \"\"\"Entry point for launching an IPython kernel.\n",
      "C:\\Users\\Asus\\Anaconda3\\lib\\site-packages\\ipykernel_launcher.py:2: UserWarning: Boolean Series key will be reindexed to match DataFrame index.\n",
      "  \n",
      "C:\\Users\\Asus\\Anaconda3\\lib\\site-packages\\ipykernel_launcher.py:3: UserWarning: Boolean Series key will be reindexed to match DataFrame index.\n",
      "  This is separate from the ipykernel package so we can avoid doing imports until\n"
     ]
    }
   ],
   "source": [
    "year_2014_deaths = df[filt_Guinea][df['Year'] == '2014']['No. of confirmed, probable and suspected deaths'].max()\n",
    "year_2015_deaths = df[filt_Guinea][df['Year'] == '2015']['No. of confirmed, probable and suspected deaths'].max()\n",
    "year_2016_deaths = df[filt_Guinea][df['Year'] == '2016']['No. of confirmed, probable and suspected deaths'].max()"
   ]
  },
  {
   "cell_type": "code",
   "execution_count": 510,
   "metadata": {},
   "outputs": [
    {
     "data": {
      "text/plain": [
       "1709.0"
      ]
     },
     "execution_count": 510,
     "metadata": {},
     "output_type": "execute_result"
    }
   ],
   "source": [
    "year_2014_deaths"
   ]
  },
  {
   "cell_type": "code",
   "execution_count": 511,
   "metadata": {},
   "outputs": [
    {
     "data": {
      "text/plain": [
       "2536.0"
      ]
     },
     "execution_count": 511,
     "metadata": {},
     "output_type": "execute_result"
    }
   ],
   "source": [
    "year_2015_deaths"
   ]
  },
  {
   "cell_type": "code",
   "execution_count": 512,
   "metadata": {},
   "outputs": [],
   "source": [
    "year_2016_deaths = year_2015_deaths - year_2016_deaths"
   ]
  },
  {
   "cell_type": "code",
   "execution_count": 513,
   "metadata": {},
   "outputs": [
    {
     "data": {
      "text/plain": [
       "0.0"
      ]
     },
     "execution_count": 513,
     "metadata": {},
     "output_type": "execute_result"
    }
   ],
   "source": [
    "year_2016_deaths"
   ]
  },
  {
   "cell_type": "code",
   "execution_count": 514,
   "metadata": {},
   "outputs": [],
   "source": [
    "year_2015_deaths = year_2015_deaths - year_2014_deaths"
   ]
  },
  {
   "cell_type": "code",
   "execution_count": 515,
   "metadata": {},
   "outputs": [
    {
     "data": {
      "text/plain": [
       "827.0"
      ]
     },
     "execution_count": 515,
     "metadata": {},
     "output_type": "execute_result"
    }
   ],
   "source": [
    "year_2015_deaths"
   ]
  },
  {
   "cell_type": "code",
   "execution_count": 516,
   "metadata": {},
   "outputs": [],
   "source": [
    "deaths_Guinea = [year_2014_deaths, year_2015_deaths, year_2016_deaths]\n",
    "years = ['2014', '2015', '2016']"
   ]
  },
  {
   "cell_type": "code",
   "execution_count": 517,
   "metadata": {},
   "outputs": [
    {
     "data": {
      "image/png": "[encoded data removed]",
      "text/plain": [
       "<Figure size 432x288 with 1 Axes>"
      ]
     },
     "metadata": {
      "needs_background": "light"
     },
     "output_type": "display_data"
    }
   ],
   "source": [
    "import matplotlib.pyplot as plt1\n",
    "import numpy as np\n",
    "\n",
    "plt1.bar(years, deaths_Guinea, label = 'No of deaths in Guinea in the years 2014, 2015, 2016')\n",
    "plt1.xlabel('Years')\n",
    "plt1.ylabel('Deaths')\n",
    "plt1.title('Deaths Vs Years, Guinea')\n",
    "plt1.savefig('Guinea_Confirmed_Deaths.png')"
   ]
  },
  {
   "cell_type": "code",
   "execution_count": null,
   "metadata": {},
   "outputs": [],
   "source": []
  },
  {
   "cell_type": "code",
   "execution_count": 518,
   "metadata": {},
   "outputs": [
    {
     "name": "stderr",
     "output_type": "stream",
     "text": [
      "C:\\Users\\Asus\\Anaconda3\\lib\\site-packages\\ipykernel_launcher.py:1: UserWarning: Boolean Series key will be reindexed to match DataFrame index.\n",
      "  \"\"\"Entry point for launching an IPython kernel.\n",
      "C:\\Users\\Asus\\Anaconda3\\lib\\site-packages\\ipykernel_launcher.py:2: UserWarning: Boolean Series key will be reindexed to match DataFrame index.\n",
      "  \n",
      "C:\\Users\\Asus\\Anaconda3\\lib\\site-packages\\ipykernel_launcher.py:3: UserWarning: Boolean Series key will be reindexed to match DataFrame index.\n",
      "  This is separate from the ipykernel package so we can avoid doing imports until\n"
     ]
    }
   ],
   "source": [
    "year_2014_cases = df[filt_Guinea][df['Year'] == '2014']['No. of confirmed, probable and suspected cases'].max()\n",
    "year_2015_cases = df[filt_Guinea][df['Year'] == '2015']['No. of confirmed, probable and suspected cases'].max()\n",
    "year_2016_cases = df[filt_Guinea][df['Year'] == '2016']['No. of confirmed, probable and suspected cases'].max()"
   ]
  },
  {
   "cell_type": "code",
   "execution_count": 519,
   "metadata": {},
   "outputs": [
    {
     "data": {
      "text/plain": [
       "2707.0"
      ]
     },
     "execution_count": 519,
     "metadata": {},
     "output_type": "execute_result"
    }
   ],
   "source": [
    "year_2014_cases"
   ]
  },
  {
   "cell_type": "code",
   "execution_count": 520,
   "metadata": {},
   "outputs": [],
   "source": [
    "year_2015_cases = year_2015_cases - year_2014_cases"
   ]
  },
  {
   "cell_type": "code",
   "execution_count": 521,
   "metadata": {},
   "outputs": [],
   "source": [
    "year_2016_cases = year_2016_cases - (year_2014_cases + year_2015_cases)"
   ]
  },
  {
   "cell_type": "code",
   "execution_count": 522,
   "metadata": {},
   "outputs": [],
   "source": [
    "cases = [year_2014_cases, year_2015_cases, year_2016_cases]"
   ]
  },
  {
   "cell_type": "code",
   "execution_count": 523,
   "metadata": {},
   "outputs": [
    {
     "data": {
      "text/plain": [
       "[2707.0, 1103.0, -6.0]"
      ]
     },
     "execution_count": 523,
     "metadata": {},
     "output_type": "execute_result"
    }
   ],
   "source": [
    "cases"
   ]
  },
  {
   "cell_type": "code",
   "execution_count": 524,
   "metadata": {},
   "outputs": [
    {
     "data": {
      "image/png": "[encoded data removed]",
      "text/plain": [
       "<Figure size 432x288 with 1 Axes>"
      ]
     },
     "metadata": {
      "needs_background": "light"
     },
     "output_type": "display_data"
    }
   ],
   "source": [
    "import matplotlib.pyplot as p\n",
    "import numpy as np\n",
    "\n",
    "p.bar(years, cases)\n",
    "p.xlabel('Years')\n",
    "p.ylabel('Cases')\n",
    "p.title('Cases Vs Years, Guinea')\n",
    "p.savefig('Guinea_Confirmed_Cases.png')"
   ]
  },
  {
   "cell_type": "code",
   "execution_count": null,
   "metadata": {},
   "outputs": [],
   "source": []
  },
  {
   "cell_type": "code",
   "execution_count": 525,
   "metadata": {},
   "outputs": [
    {
     "name": "stderr",
     "output_type": "stream",
     "text": [
      "C:\\Users\\Asus\\Anaconda3\\lib\\site-packages\\ipykernel_launcher.py:3: UserWarning: Boolean Series key will be reindexed to match DataFrame index.\n",
      "  This is separate from the ipykernel package so we can avoid doing imports until\n",
      "C:\\Users\\Asus\\Anaconda3\\lib\\site-packages\\ipykernel_launcher.py:4: UserWarning: Boolean Series key will be reindexed to match DataFrame index.\n",
      "  after removing the cwd from sys.path.\n",
      "C:\\Users\\Asus\\Anaconda3\\lib\\site-packages\\ipykernel_launcher.py:5: UserWarning: Boolean Series key will be reindexed to match DataFrame index.\n",
      "  \"\"\"\n",
      "C:\\Users\\Asus\\Anaconda3\\lib\\site-packages\\ipykernel_launcher.py:22: UserWarning: Boolean Series key will be reindexed to match DataFrame index.\n",
      "C:\\Users\\Asus\\Anaconda3\\lib\\site-packages\\ipykernel_launcher.py:23: UserWarning: Boolean Series key will be reindexed to match DataFrame index.\n",
      "C:\\Users\\Asus\\Anaconda3\\lib\\site-packages\\ipykernel_launcher.py:24: UserWarning: Boolean Series key will be reindexed to match DataFrame index.\n"
     ]
    },
    {
     "data": {
      "image/png": "[encoded data removed]",
      "text/plain": [
       "<Figure size 432x288 with 1 Axes>"
      ]
     },
     "metadata": {
      "needs_background": "light"
     },
     "output_type": "display_data"
    }
   ],
   "source": [
    "filt_Liberia = df['Country'] == 'Liberia'\n",
    "\n",
    "year_2014_deaths = df[filt_Liberia][df['Year'] == '2014']['No. of confirmed, probable and suspected deaths'].max()\n",
    "year_2015_deaths = df[filt_Liberia][df['Year'] == '2015']['No. of confirmed, probable and suspected deaths'].max()\n",
    "year_2016_deaths = df[filt_Liberia][df['Year'] == '2016']['No. of confirmed, probable and suspected deaths'].max()\n",
    "\n",
    "year_2016_deaths = year_2015_deaths - year_2016_deaths\n",
    "year_2015_deaths = year_2015_deaths - year_2014_deaths\n",
    "\n",
    "deaths_Liberia = [year_2014_deaths, year_2015_deaths, year_2016_deaths]\n",
    "years = ['2014', '2015', '2016']\n",
    "\n",
    "import matplotlib.pyplot as plt2\n",
    "import numpy as np\n",
    "\n",
    "plt2.bar(years, deaths_Liberia, label = 'No of deaths in Guinea in the years 2014, 2015, 2016')\n",
    "plt2.xlabel('Years')\n",
    "plt2.ylabel('Deaths')\n",
    "plt1.title('Deaths Vs Years, Liberia')\n",
    "plt2.savefig('Liberia_Confirmed_Deaths.png')\n",
    "\n",
    "year_2014_cases = df[filt_Liberia][df['Year'] == '2014']['No. of confirmed, probable and suspected cases'].max()\n",
    "year_2015_cases = df[filt_Liberia][df['Year'] == '2015']['No. of confirmed, probable and suspected cases'].max()\n",
    "year_2016_cases = df[filt_Liberia][df['Year'] == '2016']['No. of confirmed, probable and suspected cases'].max()\n",
    "\n",
    "year_2015_cases = year_2015_cases - year_2014_cases\n",
    "year_2016_cases = year_2016_cases - (year_2014_cases + year_2015_cases)\n",
    "cases = [year_2014_cases, year_2015_cases, year_2016_cases]\n",
    "\n",
    "import matplotlib.pyplot as plt1\n",
    "import numpy as np\n",
    "\n",
    "plt1.bar(years, cases)\n",
    "plt1.xlabel('Years')\n",
    "plt1.ylabel('Cases')\n",
    "plt1.title('Cases Vs Years, Liberia')\n",
    "plt1.savefig('Liberia_Confirmed_Cases.png')"
   ]
  },
  {
   "cell_type": "code",
   "execution_count": 526,
   "metadata": {},
   "outputs": [],
   "source": [
    "year_2015_cases = year_2015_cases - year_2014_cases\n",
    "year_2016_cases = year_2016_cases - (year_2014_cases + year_2015_cases)\n",
    "cases = [year_2014_cases, year_2015_cases, year_2016_cases]"
   ]
  },
  {
   "cell_type": "code",
   "execution_count": 527,
   "metadata": {},
   "outputs": [
    {
     "data": {
      "text/plain": [
       "[8018.0, -5370.0, -2648.0]"
      ]
     },
     "execution_count": 527,
     "metadata": {},
     "output_type": "execute_result"
    }
   ],
   "source": [
    "cases"
   ]
  },
  {
   "cell_type": "code",
   "execution_count": 528,
   "metadata": {},
   "outputs": [
    {
     "name": "stderr",
     "output_type": "stream",
     "text": [
      "C:\\Users\\Asus\\Anaconda3\\lib\\site-packages\\ipykernel_launcher.py:2: UserWarning: Boolean Series key will be reindexed to match DataFrame index.\n",
      "  \n",
      "C:\\Users\\Asus\\Anaconda3\\lib\\site-packages\\ipykernel_launcher.py:3: UserWarning: Boolean Series key will be reindexed to match DataFrame index.\n",
      "  This is separate from the ipykernel package so we can avoid doing imports until\n",
      "C:\\Users\\Asus\\Anaconda3\\lib\\site-packages\\ipykernel_launcher.py:4: UserWarning: Boolean Series key will be reindexed to match DataFrame index.\n",
      "  after removing the cwd from sys.path.\n"
     ]
    }
   ],
   "source": [
    "filt_Sierra_Leone = df['Country'] == 'Sierra Leone'\n",
    "year_2014_deaths = df[filt_Sierra_Leone][df['Year'] == '2014']['No. of confirmed, probable and suspected deaths'].max()\n",
    "year_2015_deaths = df[filt_Sierra_Leone][df['Year'] == '2015']['No. of confirmed, probable and suspected deaths'].max()\n",
    "year_2016_deaths = df[filt_Sierra_Leone][df['Year'] == '2016']['No. of confirmed, probable and suspected deaths'].max()"
   ]
  },
  {
   "cell_type": "code",
   "execution_count": 529,
   "metadata": {},
   "outputs": [
    {
     "data": {
      "text/plain": [
       "2758.0"
      ]
     },
     "execution_count": 529,
     "metadata": {},
     "output_type": "execute_result"
    }
   ],
   "source": [
    "year_2014_deaths"
   ]
  },
  {
   "cell_type": "code",
   "execution_count": 530,
   "metadata": {},
   "outputs": [],
   "source": [
    "year_2015_deaths = year_2015_deaths - year_2014_deaths"
   ]
  },
  {
   "cell_type": "code",
   "execution_count": 531,
   "metadata": {},
   "outputs": [
    {
     "data": {
      "text/plain": [
       "1197.0"
      ]
     },
     "execution_count": 531,
     "metadata": {},
     "output_type": "execute_result"
    }
   ],
   "source": [
    "year_2015_deaths"
   ]
  },
  {
   "cell_type": "code",
   "execution_count": null,
   "metadata": {},
   "outputs": [],
   "source": []
  },
  {
   "cell_type": "code",
   "execution_count": 532,
   "metadata": {},
   "outputs": [],
   "source": [
    "year_2016_deaths = year_2016_deaths - (year_2014_deaths + year_2015_deaths)"
   ]
  },
  {
   "cell_type": "code",
   "execution_count": 533,
   "metadata": {},
   "outputs": [
    {
     "data": {
      "text/plain": [
       "0.0"
      ]
     },
     "execution_count": 533,
     "metadata": {},
     "output_type": "execute_result"
    }
   ],
   "source": [
    "year_2016_deaths"
   ]
  },
  {
   "cell_type": "code",
   "execution_count": 534,
   "metadata": {},
   "outputs": [],
   "source": [
    "deaths_Sierra_Leone = [year_2014_deaths, year_2015_deaths, year_2016_deaths]"
   ]
  },
  {
   "cell_type": "code",
   "execution_count": 535,
   "metadata": {},
   "outputs": [
    {
     "data": {
      "image/png": "[encoded data removed]",
      "text/plain": [
       "<Figure size 432x288 with 1 Axes>"
      ]
     },
     "metadata": {
      "needs_background": "light"
     },
     "output_type": "display_data"
    }
   ],
   "source": [
    "import matplotlib.pyplot as plt3\n",
    "import numpy as np\n",
    "\n",
    "plt3.bar(years, deaths_Sierra_Leone, label = 'No of deaths in Sierra Leone in the years 2014, 2015, 2016')\n",
    "plt3.xlabel('Years')\n",
    "plt3.ylabel('Deaths')\n",
    "plt1.title('Deaths Vs Years, Sierra Leone')\n",
    "plt3.savefig('Sierra_Leone_Confirmed_Deaths.png')"
   ]
  },
  {
   "cell_type": "code",
   "execution_count": 536,
   "metadata": {},
   "outputs": [
    {
     "name": "stderr",
     "output_type": "stream",
     "text": [
      "C:\\Users\\Asus\\Anaconda3\\lib\\site-packages\\ipykernel_launcher.py:1: UserWarning: Boolean Series key will be reindexed to match DataFrame index.\n",
      "  \"\"\"Entry point for launching an IPython kernel.\n",
      "C:\\Users\\Asus\\Anaconda3\\lib\\site-packages\\ipykernel_launcher.py:2: UserWarning: Boolean Series key will be reindexed to match DataFrame index.\n",
      "  \n",
      "C:\\Users\\Asus\\Anaconda3\\lib\\site-packages\\ipykernel_launcher.py:3: UserWarning: Boolean Series key will be reindexed to match DataFrame index.\n",
      "  This is separate from the ipykernel package so we can avoid doing imports until\n"
     ]
    }
   ],
   "source": [
    "year_2014_cases = df[filt_Sierra_Leone][df['Year'] == '2014']['No. of confirmed, probable and suspected cases'].max()\n",
    "year_2015_cases = df[filt_Sierra_Leone][df['Year'] == '2015']['No. of confirmed, probable and suspected cases'].max()\n",
    "year_2016_cases = df[filt_Sierra_Leone][df['Year'] == '2016']['No. of confirmed, probable and suspected cases'].max()\n",
    "year_2015_cases = year_2015_cases - year_2014_cases\n",
    "year_2016_cases = year_2016_cases - (year_2014_cases + year_2015_cases)\n",
    "cases = [year_2014_cases, year_2015_cases, year_2016_cases]"
   ]
  },
  {
   "cell_type": "code",
   "execution_count": 537,
   "metadata": {},
   "outputs": [
    {
     "data": {
      "text/plain": [
       "[9446.0, 4676.0, 0.0]"
      ]
     },
     "execution_count": 537,
     "metadata": {},
     "output_type": "execute_result"
    }
   ],
   "source": [
    "cases"
   ]
  },
  {
   "cell_type": "code",
   "execution_count": 538,
   "metadata": {},
   "outputs": [
    {
     "data": {
      "image/png": "[encoded data removed]",
      "text/plain": [
       "<Figure size 432x288 with 1 Axes>"
      ]
     },
     "metadata": {
      "needs_background": "light"
     },
     "output_type": "display_data"
    }
   ],
   "source": [
    "import matplotlib.pyplot as plt4\n",
    "import numpy as np\n",
    "\n",
    "plt4.bar(years, cases)\n",
    "plt4.xlabel('Years')\n",
    "plt4.ylabel('Cases')\n",
    "plt1.title('Cases Vs Years, Sierra Leone')\n",
    "plt4.savefig('Sierra_Leone_Confirmed_Cases.png')"
   ]
  },
  {
   "cell_type": "code",
   "execution_count": 539,
   "metadata": {},
   "outputs": [],
   "source": [
    "filt_Nigeria = df['Country'] == 'Nigeria'"
   ]
  },
  {
   "cell_type": "code",
   "execution_count": 540,
   "metadata": {},
   "outputs": [
    {
     "name": "stderr",
     "output_type": "stream",
     "text": [
      "C:\\Users\\Asus\\Anaconda3\\lib\\site-packages\\ipykernel_launcher.py:1: UserWarning: Boolean Series key will be reindexed to match DataFrame index.\n",
      "  \"\"\"Entry point for launching an IPython kernel.\n",
      "C:\\Users\\Asus\\Anaconda3\\lib\\site-packages\\ipykernel_launcher.py:2: UserWarning: Boolean Series key will be reindexed to match DataFrame index.\n",
      "  \n",
      "C:\\Users\\Asus\\Anaconda3\\lib\\site-packages\\ipykernel_launcher.py:3: UserWarning: Boolean Series key will be reindexed to match DataFrame index.\n",
      "  This is separate from the ipykernel package so we can avoid doing imports until\n"
     ]
    }
   ],
   "source": [
    "year_2014_deaths = df[filt_Nigeria][df['Year'] == '2014']['No. of confirmed, probable and suspected deaths'].max()\n",
    "year_2015_deaths = df[filt_Nigeria][df['Year'] == '2015']['No. of confirmed, probable and suspected deaths'].max()\n",
    "year_2016_deaths = df[filt_Nigeria][df['Year'] == '2016']['No. of confirmed, probable and suspected deaths'].max()"
   ]
  },
  {
   "cell_type": "code",
   "execution_count": 541,
   "metadata": {},
   "outputs": [],
   "source": [
    "year_2016_deaths = year_2016_deaths - year_2015_deaths\n",
    "year_2015_deaths = year_2015_deaths - year_2014_deaths"
   ]
  },
  {
   "cell_type": "code",
   "execution_count": 542,
   "metadata": {},
   "outputs": [],
   "source": [
    "deaths_Nigeria = [year_2014_deaths, year_2015_deaths, year_2016_deaths]"
   ]
  },
  {
   "cell_type": "code",
   "execution_count": 543,
   "metadata": {},
   "outputs": [
    {
     "data": {
      "text/plain": [
       "[8.0, 0.0, 0.0]"
      ]
     },
     "execution_count": 543,
     "metadata": {},
     "output_type": "execute_result"
    }
   ],
   "source": [
    "deaths_Nigeria"
   ]
  },
  {
   "cell_type": "code",
   "execution_count": 544,
   "metadata": {},
   "outputs": [
    {
     "data": {
      "image/png": "[encoded data removed]",
      "text/plain": [
       "<Figure size 432x288 with 1 Axes>"
      ]
     },
     "metadata": {
      "needs_background": "light"
     },
     "output_type": "display_data"
    }
   ],
   "source": [
    "import matplotlib.pyplot as plt5\n",
    "import numpy as np\n",
    "\n",
    "plt5.bar(years, deaths_Nigeria, label = 'No of deaths in Nigeria in the years 2014, 2015, 2016')\n",
    "plt5.xlabel('Years')\n",
    "plt5.ylabel('Deaths')\n",
    "plt5.title('Deaths Vs Years, Nigeria')\n",
    "plt5.savefig('Nigeria_Confirmed_Deaths.png')"
   ]
  },
  {
   "cell_type": "code",
   "execution_count": 545,
   "metadata": {},
   "outputs": [
    {
     "name": "stderr",
     "output_type": "stream",
     "text": [
      "C:\\Users\\Asus\\Anaconda3\\lib\\site-packages\\ipykernel_launcher.py:2: UserWarning: Boolean Series key will be reindexed to match DataFrame index.\n",
      "  \n",
      "C:\\Users\\Asus\\Anaconda3\\lib\\site-packages\\ipykernel_launcher.py:3: UserWarning: Boolean Series key will be reindexed to match DataFrame index.\n",
      "  This is separate from the ipykernel package so we can avoid doing imports until\n"
     ]
    }
   ],
   "source": [
    "year_2014_cases = 20\n",
    "year_2015_cases = df[filt_Nigeria][df['Year'] == '2015']['No. of confirmed, probable and suspected cases'].max()\n",
    "year_2016_cases = df[filt_Nigeria][df['Year'] == '2016']['No. of confirmed, probable and suspected cases'].max()\n",
    "year_2015_cases = year_2015_cases - year_2014_cases\n",
    "year_2016_cases = year_2016_cases - (year_2014_cases + year_2015_cases)\n",
    "cases = [year_2014_cases, year_2015_cases, year_2016_cases]"
   ]
  },
  {
   "cell_type": "code",
   "execution_count": 546,
   "metadata": {},
   "outputs": [
    {
     "data": {
      "image/png": "[encoded data removed]",
      "text/plain": [
       "<Figure size 432x288 with 1 Axes>"
      ]
     },
     "metadata": {
      "needs_background": "light"
     },
     "output_type": "display_data"
    }
   ],
   "source": [
    "import matplotlib.pyplot as plt6\n",
    "import numpy as np\n",
    "\n",
    "plt6.bar(years, cases)\n",
    "plt6.xlabel('Years')\n",
    "plt6.ylabel('Cases')\n",
    "plt6.title('Cases Vs Years, Nigeria')\n",
    "plt6.savefig('Nigeria_Confirmed_Cases.png')"
   ]
  },
  {
   "cell_type": "code",
   "execution_count": 547,
   "metadata": {},
   "outputs": [],
   "source": [
    "countries = pd.Series(df['Country'].unique())"
   ]
  },
  {
   "cell_type": "code",
   "execution_count": 548,
   "metadata": {},
   "outputs": [
    {
     "data": {
      "text/plain": [
       "0                      Guinea\n",
       "1                     Nigeria\n",
       "2                Sierra Leone\n",
       "3                     Liberia\n",
       "4                     Senegal\n",
       "5    United States of America\n",
       "6                       Spain\n",
       "7                        Mali\n",
       "8              United Kingdom\n",
       "9                       Italy\n",
       "dtype: object"
      ]
     },
     "execution_count": 548,
     "metadata": {},
     "output_type": "execute_result"
    }
   ],
   "source": [
    "countries"
   ]
  },
  {
   "cell_type": "code",
   "execution_count": 549,
   "metadata": {},
   "outputs": [],
   "source": [
    "def total_deaths(country):\n",
    "    filt = df['Country'] == country\n",
    "    Total_deaths = df[filt]['No. of confirmed, probable and suspected deaths'].max()\n",
    "    return Total_deaths"
   ]
  },
  {
   "cell_type": "code",
   "execution_count": 550,
   "metadata": {},
   "outputs": [],
   "source": [
    "Total_deaths = pd.Series(countries).apply(total_deaths)"
   ]
  },
  {
   "cell_type": "code",
   "execution_count": 551,
   "metadata": {},
   "outputs": [],
   "source": [
    "def total_cases(country):\n",
    "    filt = df['Country'] == country\n",
    "    Total_cases = df[filt]['No. of confirmed, probable and suspected cases'].max()\n",
    "    return Total_cases"
   ]
  },
  {
   "cell_type": "code",
   "execution_count": 552,
   "metadata": {},
   "outputs": [],
   "source": [
    "Total_cases = pd.Series(countries).apply(total_cases)"
   ]
  },
  {
   "cell_type": "code",
   "execution_count": 553,
   "metadata": {},
   "outputs": [
    {
     "data": {
      "text/plain": [
       "0     3810.0\n",
       "1       22.0\n",
       "2    14122.0\n",
       "3    10666.0\n",
       "4        3.0\n",
       "5        4.0\n",
       "6        1.0\n",
       "7        8.0\n",
       "8        1.0\n",
       "9        1.0\n",
       "dtype: float64"
      ]
     },
     "execution_count": 553,
     "metadata": {},
     "output_type": "execute_result"
    }
   ],
   "source": [
    "Total_cases"
   ]
  },
  {
   "cell_type": "code",
   "execution_count": 565,
   "metadata": {},
   "outputs": [
    {
     "data": {
      "image/png": "[encoded data removed]",
      "text/plain": [
       "<Figure size 432x288 with 1 Axes>"
      ]
     },
     "metadata": {
      "needs_background": "light"
     },
     "output_type": "display_data"
    },
    {
     "data": {
      "image/png": "[encoded data removed]",
      "text/plain": [
       "<Figure size 1440x720 with 1 Axes>"
      ]
     },
     "metadata": {
      "needs_background": "light"
     },
     "output_type": "display_data"
    }
   ],
   "source": [
    "import matplotlib.pyplot as PLT\n",
    "import numpy as np\n",
    "\n",
    "PLT.title('Deaths and Cases Reported')\n",
    "width = 0.30\n",
    "PLT.figure(figsize = (20,10))\n",
    "x_indexes = np.arange(countries.count())\n",
    "PLT.bar(x_indexes, Total_cases, width, label = 'Cases')\n",
    "PLT.bar(x_indexes - width, Total_deaths, width, label = 'Deaths')\n",
    "PLT.xlabel('countries')\n",
    "PLT.ylabel('Deaths')\n",
    "PLT.legend()\n",
    "PLT.xticks(ticks = x_indexes, labels = countries)\n",
    "PLT.xticks(rotation = 90)\n",
    "PLT.savefig('All_Countries_deaths.png')"
   ]
  },
  {
   "cell_type": "code",
   "execution_count": null,
   "metadata": {},
   "outputs": [],
   "source": [
    "1"
   ]
  }
 ],
 "metadata": {
  "kernelspec": {
   "display_name": "Python 3",
   "language": "python",
   "name": "python3"
  },
  "language_info": {
   "codemirror_mode": {
    "name": "ipython",
    "version": 3
   },
   "file_extension": ".py",
   "mimetype": "text/x-python",
   "name": "python",
   "nbconvert_exporter": "python",
   "pygments_lexer": "ipython3",
   "version": "3.7.4"
  }
 },
 "nbformat": 4,
 "nbformat_minor": 4
}
