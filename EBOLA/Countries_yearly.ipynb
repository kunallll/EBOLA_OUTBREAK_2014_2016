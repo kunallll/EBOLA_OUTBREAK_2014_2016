{
 "cells": [
  {
   "cell_type": "markdown",
   "metadata": {},
   "source": [
    "# EBOLA OUTBREAK (Western African Ebola virus epidemic, 2014-2016)\n",
    "\n",
    "Ebola, also known as Ebola virus disease (EVD), is a viral haemorrhagic fever of humans and other primates caused by ebolaviruses. Signs and symptoms typically start between two days and three weeks after contracting the virus with a fever, sore throat, muscular pain, and headaches. Vomiting, diarrhoea and rash usually follow, along with decreased function of the liver and kidneys. At this time, some people begin to bleed both internally and externally. The disease has a high risk of death, killing 25% to 90% of those infected, with an average of about 50%. This is often due to low blood pressure from fluid loss, and typically follows six to 16 days after symptoms appear.\n",
    "\n",
    "The virus spreads through direct contact with body fluids, such as blood from infected humans or other animals. Spread may also occur from contact with items recently contaminated with bodily fluids. Spread of the disease through the air between primates, including humans, has not been documented in either laboratory or natural conditions. Semen or breast milk of a person after recovery from EVD may carry the virus for several weeks to months. Fruit bats are believed to be the normal carrier in nature, able to spread the virus without being affected by it. Other diseases such as malaria, cholera, typhoid fever, meningitis and other viral haemorrhagic fevers may resemble EVD. Blood samples are tested for viral RNA, viral antibodies or for the virus itself to confirm the diagnosis."
   ]
  },
  {
   "cell_type": "code",
   "execution_count": 23,
   "metadata": {},
   "outputs": [],
   "source": [
    "import pandas as pd\n",
    "import matplotlib.pyplot as plt\n",
    "import numpy as np\n",
    "\n",
    "df = pd.read_csv('ebola_2014_2016_clean.csv')"
   ]
  },
  {
   "cell_type": "code",
   "execution_count": 24,
   "metadata": {},
   "outputs": [
    {
     "data": {
      "text/html": [
       "<div>\n",
       "<style scoped>\n",
       "    .dataframe tbody tr th:only-of-type {\n",
       "        vertical-align: middle;\n",
       "    }\n",
       "\n",
       "    .dataframe tbody tr th {\n",
       "        vertical-align: top;\n",
       "    }\n",
       "\n",
       "    .dataframe thead th {\n",
       "        text-align: right;\n",
       "    }\n",
       "</style>\n",
       "<table border=\"1\" class=\"dataframe\">\n",
       "  <thead>\n",
       "    <tr style=\"text-align: right;\">\n",
       "      <th></th>\n",
       "      <th>Country</th>\n",
       "      <th>Date</th>\n",
       "      <th>No. of suspected cases</th>\n",
       "      <th>No. of probable cases</th>\n",
       "      <th>No. of confirmed cases</th>\n",
       "      <th>No. of confirmed, probable and suspected cases</th>\n",
       "      <th>No. of suspected deaths</th>\n",
       "      <th>No. of probable deaths</th>\n",
       "      <th>No. of confirmed deaths</th>\n",
       "      <th>No. of confirmed, probable and suspected deaths</th>\n",
       "    </tr>\n",
       "  </thead>\n",
       "  <tbody>\n",
       "    <tr>\n",
       "      <td>0</td>\n",
       "      <td>Guinea</td>\n",
       "      <td>2014-08-29</td>\n",
       "      <td>25.0</td>\n",
       "      <td>141.0</td>\n",
       "      <td>482.0</td>\n",
       "      <td>648.0</td>\n",
       "      <td>2.0</td>\n",
       "      <td>141.0</td>\n",
       "      <td>287.0</td>\n",
       "      <td>430.0</td>\n",
       "    </tr>\n",
       "    <tr>\n",
       "      <td>1</td>\n",
       "      <td>Nigeria</td>\n",
       "      <td>2014-08-29</td>\n",
       "      <td>3.0</td>\n",
       "      <td>1.0</td>\n",
       "      <td>15.0</td>\n",
       "      <td>19.0</td>\n",
       "      <td>0.0</td>\n",
       "      <td>1.0</td>\n",
       "      <td>6.0</td>\n",
       "      <td>7.0</td>\n",
       "    </tr>\n",
       "    <tr>\n",
       "      <td>2</td>\n",
       "      <td>Sierra Leone</td>\n",
       "      <td>2014-08-29</td>\n",
       "      <td>54.0</td>\n",
       "      <td>37.0</td>\n",
       "      <td>935.0</td>\n",
       "      <td>1026.0</td>\n",
       "      <td>8.0</td>\n",
       "      <td>34.0</td>\n",
       "      <td>380.0</td>\n",
       "      <td>422.0</td>\n",
       "    </tr>\n",
       "    <tr>\n",
       "      <td>3</td>\n",
       "      <td>Liberia</td>\n",
       "      <td>2014-08-29</td>\n",
       "      <td>382.0</td>\n",
       "      <td>674.0</td>\n",
       "      <td>322.0</td>\n",
       "      <td>1378.0</td>\n",
       "      <td>168.0</td>\n",
       "      <td>301.0</td>\n",
       "      <td>225.0</td>\n",
       "      <td>694.0</td>\n",
       "    </tr>\n",
       "    <tr>\n",
       "      <td>4</td>\n",
       "      <td>Sierra Leone</td>\n",
       "      <td>2014-09-05</td>\n",
       "      <td>78.0</td>\n",
       "      <td>37.0</td>\n",
       "      <td>1146.0</td>\n",
       "      <td>1261.0</td>\n",
       "      <td>11.0</td>\n",
       "      <td>37.0</td>\n",
       "      <td>443.0</td>\n",
       "      <td>491.0</td>\n",
       "    </tr>\n",
       "    <tr>\n",
       "      <td>...</td>\n",
       "      <td>...</td>\n",
       "      <td>...</td>\n",
       "      <td>...</td>\n",
       "      <td>...</td>\n",
       "      <td>...</td>\n",
       "      <td>...</td>\n",
       "      <td>...</td>\n",
       "      <td>...</td>\n",
       "      <td>...</td>\n",
       "      <td>...</td>\n",
       "    </tr>\n",
       "    <tr>\n",
       "      <td>2480</td>\n",
       "      <td>Liberia</td>\n",
       "      <td>2016-03-23</td>\n",
       "      <td>5636.0</td>\n",
       "      <td>1879.0</td>\n",
       "      <td>3151.0</td>\n",
       "      <td>10666.0</td>\n",
       "      <td>NaN</td>\n",
       "      <td>NaN</td>\n",
       "      <td>NaN</td>\n",
       "      <td>4806.0</td>\n",
       "    </tr>\n",
       "    <tr>\n",
       "      <td>2481</td>\n",
       "      <td>Italy</td>\n",
       "      <td>2016-03-23</td>\n",
       "      <td>0.0</td>\n",
       "      <td>0.0</td>\n",
       "      <td>1.0</td>\n",
       "      <td>1.0</td>\n",
       "      <td>NaN</td>\n",
       "      <td>NaN</td>\n",
       "      <td>NaN</td>\n",
       "      <td>0.0</td>\n",
       "    </tr>\n",
       "    <tr>\n",
       "      <td>2482</td>\n",
       "      <td>Liberia</td>\n",
       "      <td>2016-03-23</td>\n",
       "      <td>0.0</td>\n",
       "      <td>3.0</td>\n",
       "      <td>2.0</td>\n",
       "      <td>5.0</td>\n",
       "      <td>NaN</td>\n",
       "      <td>3.0</td>\n",
       "      <td>1.0</td>\n",
       "      <td>4.0</td>\n",
       "    </tr>\n",
       "    <tr>\n",
       "      <td>2483</td>\n",
       "      <td>Nigeria</td>\n",
       "      <td>2016-03-23</td>\n",
       "      <td>0.0</td>\n",
       "      <td>1.0</td>\n",
       "      <td>19.0</td>\n",
       "      <td>20.0</td>\n",
       "      <td>0.0</td>\n",
       "      <td>1.0</td>\n",
       "      <td>7.0</td>\n",
       "      <td>8.0</td>\n",
       "    </tr>\n",
       "    <tr>\n",
       "      <td>2484</td>\n",
       "      <td>United States of America</td>\n",
       "      <td>2016-03-23</td>\n",
       "      <td>0.0</td>\n",
       "      <td>0.0</td>\n",
       "      <td>4.0</td>\n",
       "      <td>4.0</td>\n",
       "      <td>0.0</td>\n",
       "      <td>0.0</td>\n",
       "      <td>1.0</td>\n",
       "      <td>1.0</td>\n",
       "    </tr>\n",
       "  </tbody>\n",
       "</table>\n",
       "<p>2485 rows × 10 columns</p>\n",
       "</div>"
      ],
      "text/plain": [
       "                       Country        Date  No. of suspected cases  \\\n",
       "0                       Guinea  2014-08-29                    25.0   \n",
       "1                      Nigeria  2014-08-29                     3.0   \n",
       "2                 Sierra Leone  2014-08-29                    54.0   \n",
       "3                      Liberia  2014-08-29                   382.0   \n",
       "4                 Sierra Leone  2014-09-05                    78.0   \n",
       "...                        ...         ...                     ...   \n",
       "2480                   Liberia  2016-03-23                  5636.0   \n",
       "2481                     Italy  2016-03-23                     0.0   \n",
       "2482                   Liberia  2016-03-23                     0.0   \n",
       "2483                   Nigeria  2016-03-23                     0.0   \n",
       "2484  United States of America  2016-03-23                     0.0   \n",
       "\n",
       "      No. of probable cases  No. of confirmed cases  \\\n",
       "0                     141.0                   482.0   \n",
       "1                       1.0                    15.0   \n",
       "2                      37.0                   935.0   \n",
       "3                     674.0                   322.0   \n",
       "4                      37.0                  1146.0   \n",
       "...                     ...                     ...   \n",
       "2480                 1879.0                  3151.0   \n",
       "2481                    0.0                     1.0   \n",
       "2482                    3.0                     2.0   \n",
       "2483                    1.0                    19.0   \n",
       "2484                    0.0                     4.0   \n",
       "\n",
       "      No. of confirmed, probable and suspected cases  No. of suspected deaths  \\\n",
       "0                                              648.0                      2.0   \n",
       "1                                               19.0                      0.0   \n",
       "2                                             1026.0                      8.0   \n",
       "3                                             1378.0                    168.0   \n",
       "4                                             1261.0                     11.0   \n",
       "...                                              ...                      ...   \n",
       "2480                                         10666.0                      NaN   \n",
       "2481                                             1.0                      NaN   \n",
       "2482                                             5.0                      NaN   \n",
       "2483                                            20.0                      0.0   \n",
       "2484                                             4.0                      0.0   \n",
       "\n",
       "      No. of probable deaths  No. of confirmed deaths  \\\n",
       "0                      141.0                    287.0   \n",
       "1                        1.0                      6.0   \n",
       "2                       34.0                    380.0   \n",
       "3                      301.0                    225.0   \n",
       "4                       37.0                    443.0   \n",
       "...                      ...                      ...   \n",
       "2480                     NaN                      NaN   \n",
       "2481                     NaN                      NaN   \n",
       "2482                     3.0                      1.0   \n",
       "2483                     1.0                      7.0   \n",
       "2484                     0.0                      1.0   \n",
       "\n",
       "      No. of confirmed, probable and suspected deaths  \n",
       "0                                               430.0  \n",
       "1                                                 7.0  \n",
       "2                                               422.0  \n",
       "3                                               694.0  \n",
       "4                                               491.0  \n",
       "...                                               ...  \n",
       "2480                                           4806.0  \n",
       "2481                                              0.0  \n",
       "2482                                              4.0  \n",
       "2483                                              8.0  \n",
       "2484                                              1.0  \n",
       "\n",
       "[2485 rows x 10 columns]"
      ]
     },
     "execution_count": 24,
     "metadata": {},
     "output_type": "execute_result"
    }
   ],
   "source": [
    "df"
   ]
  },
  {
   "cell_type": "code",
   "execution_count": 25,
   "metadata": {},
   "outputs": [
    {
     "data": {
      "text/plain": [
       "'2014'"
      ]
     },
     "execution_count": 25,
     "metadata": {},
     "output_type": "execute_result"
    }
   ],
   "source": [
    "df['Date'][0][0:4]"
   ]
  },
  {
   "cell_type": "code",
   "execution_count": 26,
   "metadata": {},
   "outputs": [],
   "source": [
    "years = pd.Series(df['Date'])"
   ]
  },
  {
   "cell_type": "code",
   "execution_count": 27,
   "metadata": {},
   "outputs": [
    {
     "data": {
      "text/plain": [
       "0       2014-08-29\n",
       "1       2014-08-29\n",
       "2       2014-08-29\n",
       "3       2014-08-29\n",
       "4       2014-09-05\n",
       "           ...    \n",
       "2480    2016-03-23\n",
       "2481    2016-03-23\n",
       "2482    2016-03-23\n",
       "2483    2016-03-23\n",
       "2484    2016-03-23\n",
       "Name: Date, Length: 2485, dtype: object"
      ]
     },
     "execution_count": 27,
     "metadata": {},
     "output_type": "execute_result"
    }
   ],
   "source": [
    "years"
   ]
  },
  {
   "cell_type": "code",
   "execution_count": 28,
   "metadata": {},
   "outputs": [],
   "source": [
    "def sep_year(year):\n",
    "    year_list = []\n",
    "    year_list = year[0:4]\n",
    "    return year_list"
   ]
  },
  {
   "cell_type": "code",
   "execution_count": 29,
   "metadata": {},
   "outputs": [],
   "source": [
    "df['Year'] = list(years.apply(sep_year))"
   ]
  },
  {
   "cell_type": "code",
   "execution_count": 30,
   "metadata": {},
   "outputs": [
    {
     "data": {
      "text/plain": [
       "0       2014\n",
       "1       2014\n",
       "2       2014\n",
       "3       2014\n",
       "4       2014\n",
       "        ... \n",
       "2480    2016\n",
       "2481    2016\n",
       "2482    2016\n",
       "2483    2016\n",
       "2484    2016\n",
       "Name: Year, Length: 2485, dtype: object"
      ]
     },
     "execution_count": 30,
     "metadata": {},
     "output_type": "execute_result"
    }
   ],
   "source": [
    "df['Year']"
   ]
  },
  {
   "cell_type": "code",
   "execution_count": 31,
   "metadata": {},
   "outputs": [
    {
     "data": {
      "text/html": [
       "<div>\n",
       "<style scoped>\n",
       "    .dataframe tbody tr th:only-of-type {\n",
       "        vertical-align: middle;\n",
       "    }\n",
       "\n",
       "    .dataframe tbody tr th {\n",
       "        vertical-align: top;\n",
       "    }\n",
       "\n",
       "    .dataframe thead th {\n",
       "        text-align: right;\n",
       "    }\n",
       "</style>\n",
       "<table border=\"1\" class=\"dataframe\">\n",
       "  <thead>\n",
       "    <tr style=\"text-align: right;\">\n",
       "      <th></th>\n",
       "      <th>Country</th>\n",
       "      <th>Date</th>\n",
       "      <th>No. of suspected cases</th>\n",
       "      <th>No. of probable cases</th>\n",
       "      <th>No. of confirmed cases</th>\n",
       "      <th>No. of confirmed, probable and suspected cases</th>\n",
       "      <th>No. of suspected deaths</th>\n",
       "      <th>No. of probable deaths</th>\n",
       "      <th>No. of confirmed deaths</th>\n",
       "      <th>No. of confirmed, probable and suspected deaths</th>\n",
       "      <th>Year</th>\n",
       "    </tr>\n",
       "  </thead>\n",
       "  <tbody>\n",
       "    <tr>\n",
       "      <td>0</td>\n",
       "      <td>Guinea</td>\n",
       "      <td>2014-08-29</td>\n",
       "      <td>25.0</td>\n",
       "      <td>141.0</td>\n",
       "      <td>482.0</td>\n",
       "      <td>648.0</td>\n",
       "      <td>2.0</td>\n",
       "      <td>141.0</td>\n",
       "      <td>287.0</td>\n",
       "      <td>430.0</td>\n",
       "      <td>2014</td>\n",
       "    </tr>\n",
       "    <tr>\n",
       "      <td>1</td>\n",
       "      <td>Nigeria</td>\n",
       "      <td>2014-08-29</td>\n",
       "      <td>3.0</td>\n",
       "      <td>1.0</td>\n",
       "      <td>15.0</td>\n",
       "      <td>19.0</td>\n",
       "      <td>0.0</td>\n",
       "      <td>1.0</td>\n",
       "      <td>6.0</td>\n",
       "      <td>7.0</td>\n",
       "      <td>2014</td>\n",
       "    </tr>\n",
       "    <tr>\n",
       "      <td>2</td>\n",
       "      <td>Sierra Leone</td>\n",
       "      <td>2014-08-29</td>\n",
       "      <td>54.0</td>\n",
       "      <td>37.0</td>\n",
       "      <td>935.0</td>\n",
       "      <td>1026.0</td>\n",
       "      <td>8.0</td>\n",
       "      <td>34.0</td>\n",
       "      <td>380.0</td>\n",
       "      <td>422.0</td>\n",
       "      <td>2014</td>\n",
       "    </tr>\n",
       "    <tr>\n",
       "      <td>3</td>\n",
       "      <td>Liberia</td>\n",
       "      <td>2014-08-29</td>\n",
       "      <td>382.0</td>\n",
       "      <td>674.0</td>\n",
       "      <td>322.0</td>\n",
       "      <td>1378.0</td>\n",
       "      <td>168.0</td>\n",
       "      <td>301.0</td>\n",
       "      <td>225.0</td>\n",
       "      <td>694.0</td>\n",
       "      <td>2014</td>\n",
       "    </tr>\n",
       "    <tr>\n",
       "      <td>4</td>\n",
       "      <td>Sierra Leone</td>\n",
       "      <td>2014-09-05</td>\n",
       "      <td>78.0</td>\n",
       "      <td>37.0</td>\n",
       "      <td>1146.0</td>\n",
       "      <td>1261.0</td>\n",
       "      <td>11.0</td>\n",
       "      <td>37.0</td>\n",
       "      <td>443.0</td>\n",
       "      <td>491.0</td>\n",
       "      <td>2014</td>\n",
       "    </tr>\n",
       "    <tr>\n",
       "      <td>...</td>\n",
       "      <td>...</td>\n",
       "      <td>...</td>\n",
       "      <td>...</td>\n",
       "      <td>...</td>\n",
       "      <td>...</td>\n",
       "      <td>...</td>\n",
       "      <td>...</td>\n",
       "      <td>...</td>\n",
       "      <td>...</td>\n",
       "      <td>...</td>\n",
       "      <td>...</td>\n",
       "    </tr>\n",
       "    <tr>\n",
       "      <td>2480</td>\n",
       "      <td>Liberia</td>\n",
       "      <td>2016-03-23</td>\n",
       "      <td>5636.0</td>\n",
       "      <td>1879.0</td>\n",
       "      <td>3151.0</td>\n",
       "      <td>10666.0</td>\n",
       "      <td>NaN</td>\n",
       "      <td>NaN</td>\n",
       "      <td>NaN</td>\n",
       "      <td>4806.0</td>\n",
       "      <td>2016</td>\n",
       "    </tr>\n",
       "    <tr>\n",
       "      <td>2481</td>\n",
       "      <td>Italy</td>\n",
       "      <td>2016-03-23</td>\n",
       "      <td>0.0</td>\n",
       "      <td>0.0</td>\n",
       "      <td>1.0</td>\n",
       "      <td>1.0</td>\n",
       "      <td>NaN</td>\n",
       "      <td>NaN</td>\n",
       "      <td>NaN</td>\n",
       "      <td>0.0</td>\n",
       "      <td>2016</td>\n",
       "    </tr>\n",
       "    <tr>\n",
       "      <td>2482</td>\n",
       "      <td>Liberia</td>\n",
       "      <td>2016-03-23</td>\n",
       "      <td>0.0</td>\n",
       "      <td>3.0</td>\n",
       "      <td>2.0</td>\n",
       "      <td>5.0</td>\n",
       "      <td>NaN</td>\n",
       "      <td>3.0</td>\n",
       "      <td>1.0</td>\n",
       "      <td>4.0</td>\n",
       "      <td>2016</td>\n",
       "    </tr>\n",
       "    <tr>\n",
       "      <td>2483</td>\n",
       "      <td>Nigeria</td>\n",
       "      <td>2016-03-23</td>\n",
       "      <td>0.0</td>\n",
       "      <td>1.0</td>\n",
       "      <td>19.0</td>\n",
       "      <td>20.0</td>\n",
       "      <td>0.0</td>\n",
       "      <td>1.0</td>\n",
       "      <td>7.0</td>\n",
       "      <td>8.0</td>\n",
       "      <td>2016</td>\n",
       "    </tr>\n",
       "    <tr>\n",
       "      <td>2484</td>\n",
       "      <td>United States of America</td>\n",
       "      <td>2016-03-23</td>\n",
       "      <td>0.0</td>\n",
       "      <td>0.0</td>\n",
       "      <td>4.0</td>\n",
       "      <td>4.0</td>\n",
       "      <td>0.0</td>\n",
       "      <td>0.0</td>\n",
       "      <td>1.0</td>\n",
       "      <td>1.0</td>\n",
       "      <td>2016</td>\n",
       "    </tr>\n",
       "  </tbody>\n",
       "</table>\n",
       "<p>2485 rows × 11 columns</p>\n",
       "</div>"
      ],
      "text/plain": [
       "                       Country        Date  No. of suspected cases  \\\n",
       "0                       Guinea  2014-08-29                    25.0   \n",
       "1                      Nigeria  2014-08-29                     3.0   \n",
       "2                 Sierra Leone  2014-08-29                    54.0   \n",
       "3                      Liberia  2014-08-29                   382.0   \n",
       "4                 Sierra Leone  2014-09-05                    78.0   \n",
       "...                        ...         ...                     ...   \n",
       "2480                   Liberia  2016-03-23                  5636.0   \n",
       "2481                     Italy  2016-03-23                     0.0   \n",
       "2482                   Liberia  2016-03-23                     0.0   \n",
       "2483                   Nigeria  2016-03-23                     0.0   \n",
       "2484  United States of America  2016-03-23                     0.0   \n",
       "\n",
       "      No. of probable cases  No. of confirmed cases  \\\n",
       "0                     141.0                   482.0   \n",
       "1                       1.0                    15.0   \n",
       "2                      37.0                   935.0   \n",
       "3                     674.0                   322.0   \n",
       "4                      37.0                  1146.0   \n",
       "...                     ...                     ...   \n",
       "2480                 1879.0                  3151.0   \n",
       "2481                    0.0                     1.0   \n",
       "2482                    3.0                     2.0   \n",
       "2483                    1.0                    19.0   \n",
       "2484                    0.0                     4.0   \n",
       "\n",
       "      No. of confirmed, probable and suspected cases  No. of suspected deaths  \\\n",
       "0                                              648.0                      2.0   \n",
       "1                                               19.0                      0.0   \n",
       "2                                             1026.0                      8.0   \n",
       "3                                             1378.0                    168.0   \n",
       "4                                             1261.0                     11.0   \n",
       "...                                              ...                      ...   \n",
       "2480                                         10666.0                      NaN   \n",
       "2481                                             1.0                      NaN   \n",
       "2482                                             5.0                      NaN   \n",
       "2483                                            20.0                      0.0   \n",
       "2484                                             4.0                      0.0   \n",
       "\n",
       "      No. of probable deaths  No. of confirmed deaths  \\\n",
       "0                      141.0                    287.0   \n",
       "1                        1.0                      6.0   \n",
       "2                       34.0                    380.0   \n",
       "3                      301.0                    225.0   \n",
       "4                       37.0                    443.0   \n",
       "...                      ...                      ...   \n",
       "2480                     NaN                      NaN   \n",
       "2481                     NaN                      NaN   \n",
       "2482                     3.0                      1.0   \n",
       "2483                     1.0                      7.0   \n",
       "2484                     0.0                      1.0   \n",
       "\n",
       "      No. of confirmed, probable and suspected deaths  Year  \n",
       "0                                               430.0  2014  \n",
       "1                                                 7.0  2014  \n",
       "2                                               422.0  2014  \n",
       "3                                               694.0  2014  \n",
       "4                                               491.0  2014  \n",
       "...                                               ...   ...  \n",
       "2480                                           4806.0  2016  \n",
       "2481                                              0.0  2016  \n",
       "2482                                              4.0  2016  \n",
       "2483                                              8.0  2016  \n",
       "2484                                              1.0  2016  \n",
       "\n",
       "[2485 rows x 11 columns]"
      ]
     },
     "execution_count": 31,
     "metadata": {},
     "output_type": "execute_result"
    }
   ],
   "source": [
    "df"
   ]
  },
  {
   "cell_type": "markdown",
   "metadata": {},
   "source": [
    "# Guinea - Deaths and Cases reported\n",
    "\n",
    "Guinea, officially the Republic of Guinea (French: République de Guinée), is a west-coastal country in West Africa. Formerly known as French Guinea (French: Guinée française), the modern country is sometimes referred to as Guinea-Conakry to distinguish it from other countries with \"Guinea\" in the name and the eponymous region, such as Guinea-Bissau and Equatorial Guinea. Guinea has a population of 12.4 million and an area of 245,857 square kilometres (94,926 sq mi)."
   ]
  },
  {
   "cell_type": "code",
   "execution_count": 32,
   "metadata": {},
   "outputs": [
    {
     "data": {
      "text/html": [
       "<div>\n",
       "<style scoped>\n",
       "    .dataframe tbody tr th:only-of-type {\n",
       "        vertical-align: middle;\n",
       "    }\n",
       "\n",
       "    .dataframe tbody tr th {\n",
       "        vertical-align: top;\n",
       "    }\n",
       "\n",
       "    .dataframe thead th {\n",
       "        text-align: right;\n",
       "    }\n",
       "</style>\n",
       "<table border=\"1\" class=\"dataframe\">\n",
       "  <thead>\n",
       "    <tr style=\"text-align: right;\">\n",
       "      <th></th>\n",
       "      <th>Country</th>\n",
       "      <th>Date</th>\n",
       "      <th>No. of suspected cases</th>\n",
       "      <th>No. of probable cases</th>\n",
       "      <th>No. of confirmed cases</th>\n",
       "      <th>No. of confirmed, probable and suspected cases</th>\n",
       "      <th>No. of suspected deaths</th>\n",
       "      <th>No. of probable deaths</th>\n",
       "      <th>No. of confirmed deaths</th>\n",
       "      <th>No. of confirmed, probable and suspected deaths</th>\n",
       "      <th>Year</th>\n",
       "    </tr>\n",
       "  </thead>\n",
       "  <tbody>\n",
       "    <tr>\n",
       "      <td>0</td>\n",
       "      <td>Guinea</td>\n",
       "      <td>2014-08-29</td>\n",
       "      <td>25.0</td>\n",
       "      <td>141.0</td>\n",
       "      <td>482.0</td>\n",
       "      <td>648.0</td>\n",
       "      <td>2.0</td>\n",
       "      <td>141.0</td>\n",
       "      <td>287.0</td>\n",
       "      <td>430.0</td>\n",
       "      <td>2014</td>\n",
       "    </tr>\n",
       "    <tr>\n",
       "      <td>7</td>\n",
       "      <td>Guinea</td>\n",
       "      <td>2014-09-05</td>\n",
       "      <td>56.0</td>\n",
       "      <td>152.0</td>\n",
       "      <td>604.0</td>\n",
       "      <td>812.0</td>\n",
       "      <td>3.0</td>\n",
       "      <td>152.0</td>\n",
       "      <td>362.0</td>\n",
       "      <td>517.0</td>\n",
       "      <td>2014</td>\n",
       "    </tr>\n",
       "    <tr>\n",
       "      <td>10</td>\n",
       "      <td>Guinea</td>\n",
       "      <td>2014-09-08</td>\n",
       "      <td>47.0</td>\n",
       "      <td>151.0</td>\n",
       "      <td>664.0</td>\n",
       "      <td>862.0</td>\n",
       "      <td>4.0</td>\n",
       "      <td>151.0</td>\n",
       "      <td>400.0</td>\n",
       "      <td>555.0</td>\n",
       "      <td>2014</td>\n",
       "    </tr>\n",
       "    <tr>\n",
       "      <td>14</td>\n",
       "      <td>Guinea</td>\n",
       "      <td>2014-09-12</td>\n",
       "      <td>32.0</td>\n",
       "      <td>151.0</td>\n",
       "      <td>678.0</td>\n",
       "      <td>861.0</td>\n",
       "      <td>4.0</td>\n",
       "      <td>150.0</td>\n",
       "      <td>403.0</td>\n",
       "      <td>557.0</td>\n",
       "      <td>2014</td>\n",
       "    </tr>\n",
       "    <tr>\n",
       "      <td>21</td>\n",
       "      <td>Guinea</td>\n",
       "      <td>2014-09-16</td>\n",
       "      <td>31.0</td>\n",
       "      <td>162.0</td>\n",
       "      <td>743.0</td>\n",
       "      <td>936.0</td>\n",
       "      <td>4.0</td>\n",
       "      <td>162.0</td>\n",
       "      <td>429.0</td>\n",
       "      <td>595.0</td>\n",
       "      <td>2014</td>\n",
       "    </tr>\n",
       "    <tr>\n",
       "      <td>...</td>\n",
       "      <td>...</td>\n",
       "      <td>...</td>\n",
       "      <td>...</td>\n",
       "      <td>...</td>\n",
       "      <td>...</td>\n",
       "      <td>...</td>\n",
       "      <td>...</td>\n",
       "      <td>...</td>\n",
       "      <td>...</td>\n",
       "      <td>...</td>\n",
       "      <td>...</td>\n",
       "    </tr>\n",
       "    <tr>\n",
       "      <td>2436</td>\n",
       "      <td>Guinea</td>\n",
       "      <td>2015-12-17</td>\n",
       "      <td>1.0</td>\n",
       "      <td>453.0</td>\n",
       "      <td>3351.0</td>\n",
       "      <td>3805.0</td>\n",
       "      <td>NaN</td>\n",
       "      <td>453.0</td>\n",
       "      <td>2083.0</td>\n",
       "      <td>2536.0</td>\n",
       "      <td>2015</td>\n",
       "    </tr>\n",
       "    <tr>\n",
       "      <td>2441</td>\n",
       "      <td>Guinea</td>\n",
       "      <td>2015-12-22</td>\n",
       "      <td>0.0</td>\n",
       "      <td>453.0</td>\n",
       "      <td>3351.0</td>\n",
       "      <td>3804.0</td>\n",
       "      <td>NaN</td>\n",
       "      <td>453.0</td>\n",
       "      <td>2083.0</td>\n",
       "      <td>2536.0</td>\n",
       "      <td>2015</td>\n",
       "    </tr>\n",
       "    <tr>\n",
       "      <td>2453</td>\n",
       "      <td>Guinea</td>\n",
       "      <td>2015-12-23</td>\n",
       "      <td>0.0</td>\n",
       "      <td>453.0</td>\n",
       "      <td>3351.0</td>\n",
       "      <td>3804.0</td>\n",
       "      <td>NaN</td>\n",
       "      <td>453.0</td>\n",
       "      <td>2083.0</td>\n",
       "      <td>2536.0</td>\n",
       "      <td>2015</td>\n",
       "    </tr>\n",
       "    <tr>\n",
       "      <td>2469</td>\n",
       "      <td>Guinea</td>\n",
       "      <td>2015-12-29</td>\n",
       "      <td>0.0</td>\n",
       "      <td>453.0</td>\n",
       "      <td>3351.0</td>\n",
       "      <td>3804.0</td>\n",
       "      <td>NaN</td>\n",
       "      <td>453.0</td>\n",
       "      <td>2083.0</td>\n",
       "      <td>2536.0</td>\n",
       "      <td>2015</td>\n",
       "    </tr>\n",
       "    <tr>\n",
       "      <td>2473</td>\n",
       "      <td>Guinea</td>\n",
       "      <td>2016-03-23</td>\n",
       "      <td>0.0</td>\n",
       "      <td>453.0</td>\n",
       "      <td>3351.0</td>\n",
       "      <td>3804.0</td>\n",
       "      <td>NaN</td>\n",
       "      <td>453.0</td>\n",
       "      <td>2083.0</td>\n",
       "      <td>2536.0</td>\n",
       "      <td>2016</td>\n",
       "    </tr>\n",
       "  </tbody>\n",
       "</table>\n",
       "<p>259 rows × 11 columns</p>\n",
       "</div>"
      ],
      "text/plain": [
       "     Country        Date  No. of suspected cases  No. of probable cases  \\\n",
       "0     Guinea  2014-08-29                    25.0                  141.0   \n",
       "7     Guinea  2014-09-05                    56.0                  152.0   \n",
       "10    Guinea  2014-09-08                    47.0                  151.0   \n",
       "14    Guinea  2014-09-12                    32.0                  151.0   \n",
       "21    Guinea  2014-09-16                    31.0                  162.0   \n",
       "...      ...         ...                     ...                    ...   \n",
       "2436  Guinea  2015-12-17                     1.0                  453.0   \n",
       "2441  Guinea  2015-12-22                     0.0                  453.0   \n",
       "2453  Guinea  2015-12-23                     0.0                  453.0   \n",
       "2469  Guinea  2015-12-29                     0.0                  453.0   \n",
       "2473  Guinea  2016-03-23                     0.0                  453.0   \n",
       "\n",
       "      No. of confirmed cases  No. of confirmed, probable and suspected cases  \\\n",
       "0                      482.0                                           648.0   \n",
       "7                      604.0                                           812.0   \n",
       "10                     664.0                                           862.0   \n",
       "14                     678.0                                           861.0   \n",
       "21                     743.0                                           936.0   \n",
       "...                      ...                                             ...   \n",
       "2436                  3351.0                                          3805.0   \n",
       "2441                  3351.0                                          3804.0   \n",
       "2453                  3351.0                                          3804.0   \n",
       "2469                  3351.0                                          3804.0   \n",
       "2473                  3351.0                                          3804.0   \n",
       "\n",
       "      No. of suspected deaths  No. of probable deaths  \\\n",
       "0                         2.0                   141.0   \n",
       "7                         3.0                   152.0   \n",
       "10                        4.0                   151.0   \n",
       "14                        4.0                   150.0   \n",
       "21                        4.0                   162.0   \n",
       "...                       ...                     ...   \n",
       "2436                      NaN                   453.0   \n",
       "2441                      NaN                   453.0   \n",
       "2453                      NaN                   453.0   \n",
       "2469                      NaN                   453.0   \n",
       "2473                      NaN                   453.0   \n",
       "\n",
       "      No. of confirmed deaths  \\\n",
       "0                       287.0   \n",
       "7                       362.0   \n",
       "10                      400.0   \n",
       "14                      403.0   \n",
       "21                      429.0   \n",
       "...                       ...   \n",
       "2436                   2083.0   \n",
       "2441                   2083.0   \n",
       "2453                   2083.0   \n",
       "2469                   2083.0   \n",
       "2473                   2083.0   \n",
       "\n",
       "      No. of confirmed, probable and suspected deaths  Year  \n",
       "0                                               430.0  2014  \n",
       "7                                               517.0  2014  \n",
       "10                                              555.0  2014  \n",
       "14                                              557.0  2014  \n",
       "21                                              595.0  2014  \n",
       "...                                               ...   ...  \n",
       "2436                                           2536.0  2015  \n",
       "2441                                           2536.0  2015  \n",
       "2453                                           2536.0  2015  \n",
       "2469                                           2536.0  2015  \n",
       "2473                                           2536.0  2016  \n",
       "\n",
       "[259 rows x 11 columns]"
      ]
     },
     "execution_count": 32,
     "metadata": {},
     "output_type": "execute_result"
    }
   ],
   "source": [
    "filt_Guinea = df['Country'] == 'Guinea'\n",
    "df[filt_Guinea]"
   ]
  },
  {
   "cell_type": "code",
   "execution_count": 33,
   "metadata": {},
   "outputs": [
    {
     "name": "stderr",
     "output_type": "stream",
     "text": [
      "C:\\Users\\Asus\\Anaconda3\\lib\\site-packages\\ipykernel_launcher.py:1: UserWarning: Boolean Series key will be reindexed to match DataFrame index.\n",
      "  \"\"\"Entry point for launching an IPython kernel.\n",
      "C:\\Users\\Asus\\Anaconda3\\lib\\site-packages\\ipykernel_launcher.py:2: UserWarning: Boolean Series key will be reindexed to match DataFrame index.\n",
      "  \n",
      "C:\\Users\\Asus\\Anaconda3\\lib\\site-packages\\ipykernel_launcher.py:3: UserWarning: Boolean Series key will be reindexed to match DataFrame index.\n",
      "  This is separate from the ipykernel package so we can avoid doing imports until\n"
     ]
    }
   ],
   "source": [
    "year_2014_deaths = df[filt_Guinea][df['Year'] == '2014']['No. of confirmed, probable and suspected deaths'].max()\n",
    "year_2015_deaths = df[filt_Guinea][df['Year'] == '2015']['No. of confirmed, probable and suspected deaths'].max()\n",
    "year_2016_deaths = df[filt_Guinea][df['Year'] == '2016']['No. of confirmed, probable and suspected deaths'].max()"
   ]
  },
  {
   "cell_type": "code",
   "execution_count": 34,
   "metadata": {},
   "outputs": [
    {
     "data": {
      "text/plain": [
       "1709.0"
      ]
     },
     "execution_count": 34,
     "metadata": {},
     "output_type": "execute_result"
    }
   ],
   "source": [
    "year_2014_deaths"
   ]
  },
  {
   "cell_type": "code",
   "execution_count": 35,
   "metadata": {},
   "outputs": [
    {
     "data": {
      "text/plain": [
       "[2536.0, 2536.0]"
      ]
     },
     "execution_count": 35,
     "metadata": {},
     "output_type": "execute_result"
    }
   ],
   "source": [
    "[year_2015_deaths, year_2016_deaths]"
   ]
  },
  {
   "cell_type": "code",
   "execution_count": 36,
   "metadata": {},
   "outputs": [],
   "source": [
    "year_2016_deaths = year_2015_deaths - year_2016_deaths"
   ]
  },
  {
   "cell_type": "code",
   "execution_count": 37,
   "metadata": {},
   "outputs": [
    {
     "data": {
      "text/plain": [
       "0.0"
      ]
     },
     "execution_count": 37,
     "metadata": {},
     "output_type": "execute_result"
    }
   ],
   "source": [
    "year_2016_deaths"
   ]
  },
  {
   "cell_type": "code",
   "execution_count": 38,
   "metadata": {},
   "outputs": [],
   "source": [
    "year_2015_deaths = year_2015_deaths - year_2014_deaths"
   ]
  },
  {
   "cell_type": "code",
   "execution_count": 39,
   "metadata": {},
   "outputs": [
    {
     "data": {
      "text/plain": [
       "827.0"
      ]
     },
     "execution_count": 39,
     "metadata": {},
     "output_type": "execute_result"
    }
   ],
   "source": [
    "year_2015_deaths"
   ]
  },
  {
   "cell_type": "code",
   "execution_count": 40,
   "metadata": {},
   "outputs": [],
   "source": [
    "deaths_Guinea = [year_2014_deaths, year_2015_deaths, year_2016_deaths]\n",
    "years = ['2014', '2015', '2016']"
   ]
  },
  {
   "cell_type": "code",
   "execution_count": 41,
   "metadata": {},
   "outputs": [
    {
     "data": {
      "image/png": "[encoded data removed]",
      "text/plain": [
       "<Figure size 432x288 with 1 Axes>"
      ]
     },
     "metadata": {
      "needs_background": "light"
     },
     "output_type": "display_data"
    }
   ],
   "source": [
    "plt.figure(figsize=(6, 10))\n",
    "plt.bar(years, deaths_Guinea, label = 'No of deaths in Guinea in the years 2014, 2015, 2016')\n",
    "plt.xlabel('Years')\n",
    "plt.ylabel('Deaths')\n",
    "plt.title('Deaths Vs Years, Guinea')\n",
    "plt.savefig('Guinea_Confirmed_Deaths.png')"
   ]
  },
  {
   "cell_type": "code",
   "execution_count": 42,
   "metadata": {},
   "outputs": [
    {
     "name": "stderr",
     "output_type": "stream",
     "text": [
      "C:\\Users\\Asus\\Anaconda3\\lib\\site-packages\\ipykernel_launcher.py:1: UserWarning: Boolean Series key will be reindexed to match DataFrame index.\n",
      "  \"\"\"Entry point for launching an IPython kernel.\n",
      "C:\\Users\\Asus\\Anaconda3\\lib\\site-packages\\ipykernel_launcher.py:2: UserWarning: Boolean Series key will be reindexed to match DataFrame index.\n",
      "  \n",
      "C:\\Users\\Asus\\Anaconda3\\lib\\site-packages\\ipykernel_launcher.py:3: UserWarning: Boolean Series key will be reindexed to match DataFrame index.\n",
      "  This is separate from the ipykernel package so we can avoid doing imports until\n"
     ]
    }
   ],
   "source": [
    "year_2014_cases = df[filt_Guinea][df['Year'] == '2014']['No. of confirmed, probable and suspected cases'].max()\n",
    "year_2015_cases = df[filt_Guinea][df['Year'] == '2015']['No. of confirmed, probable and suspected cases'].max()\n",
    "year_2016_cases = df[filt_Guinea][df['Year'] == '2016']['No. of confirmed, probable and suspected cases'].max()"
   ]
  },
  {
   "cell_type": "code",
   "execution_count": 43,
   "metadata": {},
   "outputs": [
    {
     "data": {
      "text/plain": [
       "[2707.0, 3810.0, 3804.0]"
      ]
     },
     "execution_count": 43,
     "metadata": {},
     "output_type": "execute_result"
    }
   ],
   "source": [
    "[year_2014_cases, year_2015_cases, year_2016_cases]"
   ]
  },
  {
   "cell_type": "code",
   "execution_count": 44,
   "metadata": {},
   "outputs": [],
   "source": [
    "year_2015_cases = year_2015_cases - year_2014_cases"
   ]
  },
  {
   "cell_type": "code",
   "execution_count": 45,
   "metadata": {},
   "outputs": [],
   "source": [
    "year_2016_cases = year_2016_cases - (year_2014_cases + year_2015_cases)"
   ]
  },
  {
   "cell_type": "code",
   "execution_count": 46,
   "metadata": {},
   "outputs": [],
   "source": [
    "cases = [year_2014_cases, year_2015_cases, 0]"
   ]
  },
  {
   "cell_type": "code",
   "execution_count": 47,
   "metadata": {},
   "outputs": [
    {
     "data": {
      "text/plain": [
       "[2707.0, 1103.0, 0]"
      ]
     },
     "execution_count": 47,
     "metadata": {},
     "output_type": "execute_result"
    }
   ],
   "source": [
    "cases"
   ]
  },
  {
   "cell_type": "code",
   "execution_count": 48,
   "metadata": {},
   "outputs": [
    {
     "data": {
      "image/png": "[encoded data removed]",
      "text/plain": [
       "<Figure size 432x288 with 1 Axes>"
      ]
     },
     "metadata": {
      "needs_background": "light"
     },
     "output_type": "display_data"
    }
   ],
   "source": [
    "plt.bar(years, cases)\n",
    "plt.xlabel('Years')\n",
    "plt.ylabel('Cases')\n",
    "plt.title('Cases Vs Years, Guinea')\n",
    "plt.savefig('Guinea_Confirmed_Cases.png')"
   ]
  },
  {
   "cell_type": "markdown",
   "metadata": {},
   "source": [
    "**The above plots are the deaths and the confirmed cases reported in Guinea in the 3 main years of the ebola outbreak:**\n",
    "1. 2014 - 2707 cases, 1709 deaths\n",
    "2. 2015 - 1103 cases, 827 deaths\n",
    "3. 2016 - 0 cases, 0 deaths"
   ]
  },
  {
   "cell_type": "markdown",
   "metadata": {},
   "source": [
    "# Liberia - Deaths and Cases reported\n",
    "\n",
    "Liberia, officially the Republic of Liberia, is a country on the West African coast. It is bordered by Sierra Leone to its northwest, Guinea to its north, Ivory Coast to its east, and the Atlantic Ocean to its south-southwest. It covers an area of 111,369 square kilometres (43,000 sq mi) and has a population of around 4,900,000. English is the official language, but over 20 indigenous languages are spoken, representing the numerous ethnic groups who make up more than 95% of the population. The country's capital and largest city is Monrovia."
   ]
  },
  {
   "cell_type": "code",
   "execution_count": 84,
   "metadata": {},
   "outputs": [
    {
     "name": "stderr",
     "output_type": "stream",
     "text": [
      "C:\\Users\\Asus\\Anaconda3\\lib\\site-packages\\ipykernel_launcher.py:3: UserWarning: Boolean Series key will be reindexed to match DataFrame index.\n",
      "  This is separate from the ipykernel package so we can avoid doing imports until\n",
      "C:\\Users\\Asus\\Anaconda3\\lib\\site-packages\\ipykernel_launcher.py:4: UserWarning: Boolean Series key will be reindexed to match DataFrame index.\n",
      "  after removing the cwd from sys.path.\n",
      "C:\\Users\\Asus\\Anaconda3\\lib\\site-packages\\ipykernel_launcher.py:5: UserWarning: Boolean Series key will be reindexed to match DataFrame index.\n",
      "  \"\"\"\n"
     ]
    },
    {
     "data": {
      "image/png": "[encoded data removed]",
      "text/plain": [
       "<Figure size 432x288 with 1 Axes>"
      ]
     },
     "metadata": {
      "needs_background": "light"
     },
     "output_type": "display_data"
    }
   ],
   "source": [
    "filt_Liberia = df['Country'] == 'Liberia'\n",
    "\n",
    "year_2014_deaths = df[filt_Liberia][df['Year'] == '2014']['No. of confirmed, probable and suspected deaths'].max()\n",
    "year_2015_deaths = df[filt_Liberia][df['Year'] == '2015']['No. of confirmed, probable and suspected deaths'].max()\n",
    "year_2016_deaths = df[filt_Liberia][df['Year'] == '2016']['No. of confirmed, probable and suspected deaths'].max()\n",
    "\n",
    "year_2016_deaths = year_2015_deaths - year_2016_deaths\n",
    "year_2015_deaths = year_2015_deaths - year_2014_deaths\n",
    "\n",
    "deaths_Liberia = [year_2014_deaths, year_2015_deaths, year_2016_deaths]\n",
    "years = ['2014', '2015', '2016']\n",
    "\n",
    "plt.bar(years, deaths_Liberia, label = 'No of deaths in Guinea in the years 2014, 2015, 2016')\n",
    "plt.xlabel('Years')\n",
    "plt.ylabel('Deaths')\n",
    "plt.title('Deaths Vs Years, Liberia')\n",
    "plt.savefig('Liberia_Confirmed_Deaths.png')"
   ]
  },
  {
   "cell_type": "code",
   "execution_count": 85,
   "metadata": {},
   "outputs": [
    {
     "name": "stderr",
     "output_type": "stream",
     "text": [
      "C:\\Users\\Asus\\Anaconda3\\lib\\site-packages\\ipykernel_launcher.py:1: UserWarning: Boolean Series key will be reindexed to match DataFrame index.\n",
      "  \"\"\"Entry point for launching an IPython kernel.\n",
      "C:\\Users\\Asus\\Anaconda3\\lib\\site-packages\\ipykernel_launcher.py:2: UserWarning: Boolean Series key will be reindexed to match DataFrame index.\n",
      "  \n",
      "C:\\Users\\Asus\\Anaconda3\\lib\\site-packages\\ipykernel_launcher.py:3: UserWarning: Boolean Series key will be reindexed to match DataFrame index.\n",
      "  This is separate from the ipykernel package so we can avoid doing imports until\n"
     ]
    },
    {
     "data": {
      "image/png": "[encoded data removed]",
      "text/plain": [
       "<Figure size 432x288 with 1 Axes>"
      ]
     },
     "metadata": {
      "needs_background": "light"
     },
     "output_type": "display_data"
    }
   ],
   "source": [
    "year_2014_cases = df[filt_Liberia][df['Year'] == '2014']['No. of confirmed, probable and suspected cases'].max()\n",
    "year_2015_cases = df[filt_Liberia][df['Year'] == '2015']['No. of confirmed, probable and suspected cases'].max()\n",
    "year_2016_cases = df[filt_Liberia][df['Year'] == '2016']['No. of confirmed, probable and suspected cases'].max()\n",
    "\n",
    "year_2015_cases = year_2015_cases - year_2014_cases\n",
    "year_2016_cases = year_2016_cases - (year_2014_cases + year_2015_cases)\n",
    "cases = [year_2014_cases, year_2015_cases, year_2016_cases]\n",
    "\n",
    "plt.bar(years, cases)\n",
    "plt.xlabel('Years')\n",
    "plt.ylabel('Cases')\n",
    "plt.title('Cases Vs Years, Liberia')\n",
    "plt.savefig('Liberia_Confirmed_Cases.png')"
   ]
  },
  {
   "cell_type": "markdown",
   "metadata": {},
   "source": [
    "**The above plots are the deaths and the confirmed cases reported in Liberia in the 3 main years of the ebola outbreak:**\n",
    "1. 2014 - 8018 cases, 3423 deaths\n",
    "2. 2015 - 2648 cases, 1383 deaths\n",
    "3. 2016 - 0 cases, 0 deaths"
   ]
  },
  {
   "cell_type": "markdown",
   "metadata": {},
   "source": [
    "# Sierra Leone - Deaths and Cases reported\n",
    "\n",
    "Sierra Leone, officially the Republic of Sierra Leone, informally Salone, is a country on the southwest coast of West Africa. It is bordered by Liberia to the southeast and Guinea to the northeast. Sierra Leone has a tropical climate with a diverse environment ranging from savanna to rainforests, a total area of 71,740 km2 (27,699 sq mi) and a population of 7,092,113 as of the 2015 census. The capital and largest city is Freetown. The country is divided into five administrative regions which are subdivided into sixteen districts."
   ]
  },
  {
   "cell_type": "code",
   "execution_count": 52,
   "metadata": {},
   "outputs": [
    {
     "name": "stderr",
     "output_type": "stream",
     "text": [
      "C:\\Users\\Asus\\Anaconda3\\lib\\site-packages\\ipykernel_launcher.py:2: UserWarning: Boolean Series key will be reindexed to match DataFrame index.\n",
      "  \n",
      "C:\\Users\\Asus\\Anaconda3\\lib\\site-packages\\ipykernel_launcher.py:3: UserWarning: Boolean Series key will be reindexed to match DataFrame index.\n",
      "  This is separate from the ipykernel package so we can avoid doing imports until\n",
      "C:\\Users\\Asus\\Anaconda3\\lib\\site-packages\\ipykernel_launcher.py:4: UserWarning: Boolean Series key will be reindexed to match DataFrame index.\n",
      "  after removing the cwd from sys.path.\n"
     ]
    }
   ],
   "source": [
    "filt_Sierra_Leone = df['Country'] == 'Sierra Leone'\n",
    "year_2014_deaths = df[filt_Sierra_Leone][df['Year'] == '2014']['No. of confirmed, probable and suspected deaths'].max()\n",
    "year_2015_deaths = df[filt_Sierra_Leone][df['Year'] == '2015']['No. of confirmed, probable and suspected deaths'].max()\n",
    "year_2016_deaths = df[filt_Sierra_Leone][df['Year'] == '2016']['No. of confirmed, probable and suspected deaths'].max()"
   ]
  },
  {
   "cell_type": "code",
   "execution_count": 53,
   "metadata": {},
   "outputs": [
    {
     "data": {
      "text/plain": [
       "2758.0"
      ]
     },
     "execution_count": 53,
     "metadata": {},
     "output_type": "execute_result"
    }
   ],
   "source": [
    "year_2014_deaths"
   ]
  },
  {
   "cell_type": "code",
   "execution_count": 54,
   "metadata": {},
   "outputs": [],
   "source": [
    "year_2015_deaths = year_2015_deaths - year_2014_deaths"
   ]
  },
  {
   "cell_type": "code",
   "execution_count": 55,
   "metadata": {},
   "outputs": [
    {
     "data": {
      "text/plain": [
       "1197.0"
      ]
     },
     "execution_count": 55,
     "metadata": {},
     "output_type": "execute_result"
    }
   ],
   "source": [
    "year_2015_deaths"
   ]
  },
  {
   "cell_type": "code",
   "execution_count": 56,
   "metadata": {},
   "outputs": [],
   "source": [
    "year_2016_deaths = year_2016_deaths - (year_2014_deaths + year_2015_deaths)"
   ]
  },
  {
   "cell_type": "code",
   "execution_count": 57,
   "metadata": {},
   "outputs": [
    {
     "data": {
      "text/plain": [
       "0.0"
      ]
     },
     "execution_count": 57,
     "metadata": {},
     "output_type": "execute_result"
    }
   ],
   "source": [
    "year_2016_deaths"
   ]
  },
  {
   "cell_type": "code",
   "execution_count": 58,
   "metadata": {},
   "outputs": [],
   "source": [
    "deaths_Sierra_Leone = [year_2014_deaths, year_2015_deaths, year_2016_deaths]"
   ]
  },
  {
   "cell_type": "code",
   "execution_count": 59,
   "metadata": {},
   "outputs": [
    {
     "data": {
      "image/png": "[encoded data removed]",
      "text/plain": [
       "<Figure size 432x288 with 1 Axes>"
      ]
     },
     "metadata": {
      "needs_background": "light"
     },
     "output_type": "display_data"
    }
   ],
   "source": [
    "plt.bar(years, deaths_Sierra_Leone, label = 'No of deaths in Sierra Leone in the years 2014, 2015, 2016')\n",
    "plt.xlabel('Years')\n",
    "plt.ylabel('Deaths')\n",
    "plt.title('Deaths Vs Years, Sierra Leone')\n",
    "plt.savefig('Sierra_Leone_Confirmed_Deaths.png')"
   ]
  },
  {
   "cell_type": "code",
   "execution_count": 60,
   "metadata": {},
   "outputs": [
    {
     "name": "stderr",
     "output_type": "stream",
     "text": [
      "C:\\Users\\Asus\\Anaconda3\\lib\\site-packages\\ipykernel_launcher.py:1: UserWarning: Boolean Series key will be reindexed to match DataFrame index.\n",
      "  \"\"\"Entry point for launching an IPython kernel.\n",
      "C:\\Users\\Asus\\Anaconda3\\lib\\site-packages\\ipykernel_launcher.py:2: UserWarning: Boolean Series key will be reindexed to match DataFrame index.\n",
      "  \n",
      "C:\\Users\\Asus\\Anaconda3\\lib\\site-packages\\ipykernel_launcher.py:3: UserWarning: Boolean Series key will be reindexed to match DataFrame index.\n",
      "  This is separate from the ipykernel package so we can avoid doing imports until\n"
     ]
    }
   ],
   "source": [
    "year_2014_cases = df[filt_Sierra_Leone][df['Year'] == '2014']['No. of confirmed, probable and suspected cases'].max()\n",
    "year_2015_cases = df[filt_Sierra_Leone][df['Year'] == '2015']['No. of confirmed, probable and suspected cases'].max()\n",
    "year_2016_cases = df[filt_Sierra_Leone][df['Year'] == '2016']['No. of confirmed, probable and suspected cases'].max()\n",
    "year_2015_cases = year_2015_cases - year_2014_cases\n",
    "year_2016_cases = year_2016_cases - (year_2014_cases + year_2015_cases)\n",
    "cases = [year_2014_cases, year_2015_cases, year_2016_cases]"
   ]
  },
  {
   "cell_type": "code",
   "execution_count": 61,
   "metadata": {},
   "outputs": [
    {
     "data": {
      "text/plain": [
       "[9446.0, 4676.0, 0.0]"
      ]
     },
     "execution_count": 61,
     "metadata": {},
     "output_type": "execute_result"
    }
   ],
   "source": [
    "cases"
   ]
  },
  {
   "cell_type": "code",
   "execution_count": 62,
   "metadata": {
    "scrolled": true
   },
   "outputs": [
    {
     "data": {
      "image/png": "[encoded data removed]",
      "text/plain": [
       "<Figure size 432x288 with 1 Axes>"
      ]
     },
     "metadata": {
      "needs_background": "light"
     },
     "output_type": "display_data"
    }
   ],
   "source": [
    "plt.bar(years, cases)\n",
    "plt.xlabel('Years')\n",
    "plt.ylabel('Cases')\n",
    "plt.title('Cases Vs Years, Sierra Leone')\n",
    "plt.savefig('Sierra_Leone_Confirmed_Cases.png')"
   ]
  },
  {
   "cell_type": "markdown",
   "metadata": {},
   "source": [
    "**The above plots are the deaths and the confirmed cases reported in Sierra Leone in the 3 main years of the ebola outbreak:**\n",
    "1. 2014 - 9446 cases, 2758 deaths\n",
    "2. 2015 - 4676 cases, 1197 deaths\n",
    "3. 2016 - 0 cases, 0 deaths"
   ]
  },
  {
   "cell_type": "markdown",
   "metadata": {},
   "source": [
    "# Nigeria - Deaths and Cases reported\n",
    "\n",
    "Nigeria, officially the Federal Republic of Nigeria, is a country in West Africa, which is spilt between 3 main ethnic groups Yoruba, Hausa, and Igbo with many others. Nigeria borders, Niger in the north, Chad in the northeast, Cameroon in the east, and Benin in the west. Its southern coast is on the Gulf of Guinea in the Atlantic Ocean. The federation comprises 36 states and 1 Federal Capital Territory, where the capital, Abuja, is located. The constitution defines Nigeria as a democratic secular state."
   ]
  },
  {
   "cell_type": "code",
   "execution_count": 63,
   "metadata": {},
   "outputs": [],
   "source": [
    "filt_Nigeria = df['Country'] == 'Nigeria'"
   ]
  },
  {
   "cell_type": "code",
   "execution_count": 64,
   "metadata": {},
   "outputs": [
    {
     "name": "stderr",
     "output_type": "stream",
     "text": [
      "C:\\Users\\Asus\\Anaconda3\\lib\\site-packages\\ipykernel_launcher.py:1: UserWarning: Boolean Series key will be reindexed to match DataFrame index.\n",
      "  \"\"\"Entry point for launching an IPython kernel.\n",
      "C:\\Users\\Asus\\Anaconda3\\lib\\site-packages\\ipykernel_launcher.py:2: UserWarning: Boolean Series key will be reindexed to match DataFrame index.\n",
      "  \n",
      "C:\\Users\\Asus\\Anaconda3\\lib\\site-packages\\ipykernel_launcher.py:3: UserWarning: Boolean Series key will be reindexed to match DataFrame index.\n",
      "  This is separate from the ipykernel package so we can avoid doing imports until\n"
     ]
    }
   ],
   "source": [
    "year_2014_deaths = df[filt_Nigeria][df['Year'] == '2014']['No. of confirmed, probable and suspected deaths'].max()\n",
    "year_2015_deaths = df[filt_Nigeria][df['Year'] == '2015']['No. of confirmed, probable and suspected deaths'].max()\n",
    "year_2016_deaths = df[filt_Nigeria][df['Year'] == '2016']['No. of confirmed, probable and suspected deaths'].max()"
   ]
  },
  {
   "cell_type": "code",
   "execution_count": 65,
   "metadata": {},
   "outputs": [],
   "source": [
    "year_2016_deaths = year_2016_deaths - year_2015_deaths\n",
    "year_2015_deaths = year_2015_deaths - year_2014_deaths"
   ]
  },
  {
   "cell_type": "code",
   "execution_count": 66,
   "metadata": {},
   "outputs": [],
   "source": [
    "deaths_Nigeria = [year_2014_deaths, year_2015_deaths, year_2016_deaths]"
   ]
  },
  {
   "cell_type": "code",
   "execution_count": 67,
   "metadata": {},
   "outputs": [
    {
     "data": {
      "text/plain": [
       "[8.0, 0.0, 0.0]"
      ]
     },
     "execution_count": 67,
     "metadata": {},
     "output_type": "execute_result"
    }
   ],
   "source": [
    "deaths_Nigeria"
   ]
  },
  {
   "cell_type": "code",
   "execution_count": 68,
   "metadata": {},
   "outputs": [
    {
     "data": {
      "image/png": "[encoded data removed]",
      "text/plain": [
       "<Figure size 432x288 with 1 Axes>"
      ]
     },
     "metadata": {
      "needs_background": "light"
     },
     "output_type": "display_data"
    }
   ],
   "source": [
    "plt.bar(years, deaths_Nigeria, label = 'No of deaths in Nigeria in the years 2014, 2015, 2016')\n",
    "plt.xlabel('Years')\n",
    "plt.ylabel('Deaths')\n",
    "plt.title('Deaths Vs Years, Nigeria')\n",
    "plt.savefig('Nigeria_Confirmed_Deaths.png')"
   ]
  },
  {
   "cell_type": "code",
   "execution_count": 86,
   "metadata": {},
   "outputs": [
    {
     "name": "stderr",
     "output_type": "stream",
     "text": [
      "C:\\Users\\Asus\\Anaconda3\\lib\\site-packages\\ipykernel_launcher.py:2: UserWarning: Boolean Series key will be reindexed to match DataFrame index.\n",
      "  \n",
      "C:\\Users\\Asus\\Anaconda3\\lib\\site-packages\\ipykernel_launcher.py:3: UserWarning: Boolean Series key will be reindexed to match DataFrame index.\n",
      "  This is separate from the ipykernel package so we can avoid doing imports until\n"
     ]
    },
    {
     "data": {
      "text/plain": [
       "[20, 0.0, 0.0]"
      ]
     },
     "execution_count": 86,
     "metadata": {},
     "output_type": "execute_result"
    }
   ],
   "source": [
    "year_2014_cases = 20\n",
    "year_2015_cases = df[filt_Nigeria][df['Year'] == '2015']['No. of confirmed, probable and suspected cases'].max()\n",
    "year_2016_cases = df[filt_Nigeria][df['Year'] == '2016']['No. of confirmed, probable and suspected cases'].max()\n",
    "year_2015_cases = year_2015_cases - year_2014_cases\n",
    "year_2016_cases = year_2016_cases - (year_2014_cases + year_2015_cases)\n",
    "cases = [year_2014_cases, year_2015_cases, year_2016_cases]\n",
    "cases"
   ]
  },
  {
   "cell_type": "code",
   "execution_count": 70,
   "metadata": {},
   "outputs": [
    {
     "data": {
      "image/png": "[encoded data removed]",
      "text/plain": [
       "<Figure size 432x288 with 1 Axes>"
      ]
     },
     "metadata": {
      "needs_background": "light"
     },
     "output_type": "display_data"
    }
   ],
   "source": [
    "plt.bar(years, cases)\n",
    "plt.xlabel('Years')\n",
    "plt.ylabel('Cases')\n",
    "plt.title('Cases Vs Years, Nigeria')\n",
    "plt.savefig('Nigeria_Confirmed_Cases.png')"
   ]
  },
  {
   "cell_type": "markdown",
   "metadata": {},
   "source": [
    "**The above plots are the deaths and the confirmed cases reported in Nigeria in the 3 main years of the ebola outbreak:**\n",
    "1. 2014 - 20 cases, 8 deaths\n",
    "2. 2015 - 0 cases, 0 deaths\n",
    "3. 2016 - 0 cases, 0 deaths"
   ]
  },
  {
   "cell_type": "code",
   "execution_count": 71,
   "metadata": {},
   "outputs": [],
   "source": [
    "countries = pd.Series(df['Country'].unique())"
   ]
  },
  {
   "cell_type": "code",
   "execution_count": 72,
   "metadata": {},
   "outputs": [
    {
     "data": {
      "text/plain": [
       "0                      Guinea\n",
       "1                     Nigeria\n",
       "2                Sierra Leone\n",
       "3                     Liberia\n",
       "4                     Senegal\n",
       "5    United States of America\n",
       "6                       Spain\n",
       "7                        Mali\n",
       "8              United Kingdom\n",
       "9                       Italy\n",
       "dtype: object"
      ]
     },
     "execution_count": 72,
     "metadata": {},
     "output_type": "execute_result"
    }
   ],
   "source": [
    "countries"
   ]
  },
  {
   "cell_type": "code",
   "execution_count": 73,
   "metadata": {},
   "outputs": [],
   "source": [
    "def total_deaths(country):\n",
    "    filt = df['Country'] == country\n",
    "    Total_deaths = df[filt]['No. of confirmed, probable and suspected deaths'].max()\n",
    "    return Total_deaths"
   ]
  },
  {
   "cell_type": "code",
   "execution_count": 74,
   "metadata": {},
   "outputs": [],
   "source": [
    "Total_deaths = pd.Series(countries).apply(total_deaths)"
   ]
  },
  {
   "cell_type": "code",
   "execution_count": 75,
   "metadata": {},
   "outputs": [],
   "source": [
    "def total_cases(country):\n",
    "    filt = df['Country'] == country\n",
    "    Total_cases = df[filt]['No. of confirmed, probable and suspected cases'].max()\n",
    "    return Total_cases"
   ]
  },
  {
   "cell_type": "code",
   "execution_count": 76,
   "metadata": {},
   "outputs": [],
   "source": [
    "Total_cases = pd.Series(countries).apply(total_cases)"
   ]
  },
  {
   "cell_type": "code",
   "execution_count": 77,
   "metadata": {},
   "outputs": [
    {
     "data": {
      "text/plain": [
       "0     3810.0\n",
       "1       22.0\n",
       "2    14122.0\n",
       "3    10666.0\n",
       "4        3.0\n",
       "5        4.0\n",
       "6        1.0\n",
       "7        8.0\n",
       "8        1.0\n",
       "9        1.0\n",
       "dtype: float64"
      ]
     },
     "execution_count": 77,
     "metadata": {},
     "output_type": "execute_result"
    }
   ],
   "source": [
    "Total_cases"
   ]
  },
  {
   "cell_type": "markdown",
   "metadata": {},
   "source": [
    "# Deaths Vs Cases reported, in all the countries that reported Ebola cases."
   ]
  },
  {
   "cell_type": "code",
   "execution_count": 87,
   "metadata": {},
   "outputs": [
    {
     "data": {
      "image/png": "[encoded data removed]",
      "text/plain": [
       "<Figure size 1440x720 with 1 Axes>"
      ]
     },
     "metadata": {
      "needs_background": "light"
     },
     "output_type": "display_data"
    }
   ],
   "source": [
    "import matplotlib.pyplot as PLT\n",
    "import numpy as np\n",
    "\n",
    "# PLT.title('Deaths and Cases Reported')\n",
    "width = 0.30\n",
    "PLT.figure(figsize = (20,10))\n",
    "x_indexes = np.arange(countries.count())\n",
    "PLT.bar(x_indexes, Total_cases, width, label = 'Cases')\n",
    "PLT.bar(x_indexes - width, Total_deaths, width, label = 'Deaths')\n",
    "PLT.xticks(ticks = x_indexes, labels = countries)\n",
    "PLT.xticks(rotation = 90)\n",
    "PLT.xlabel('countries')\n",
    "PLT.ylabel('Deaths')\n",
    "PLT.legend()\n",
    "PLT.savefig('All_Countries_deaths.png')"
   ]
  },
  {
   "cell_type": "markdown",
   "metadata": {},
   "source": [
    "# Results: \n",
    "\n",
    "The ebola virus affected a total of 10 countries, these are: \n",
    "1. Sierra Leone\n",
    "2. Liberia\n",
    "3. Guinea\n",
    "4. Nigeria\n",
    "5. Senegal\n",
    "6. USA\n",
    "7. Spain\n",
    "8. United Kingdom\n",
    "9. Mali\n",
    "10. Italy\n",
    "\n",
    "The heavilly affected countries were only the ones in that were in the African subcontinent. Sierra Leone was the one with the highest number of cases and deaths seen in the span of years 2014-2016.\n",
    "\n",
    "This ebola outbreak is considered to be the longest. \"Western African Ebola virus epidemic\" is what it is refered to as. The previous outbreaks that had happened were brought to an end much earlier and the response was much quicker. The healthcare systems in most African countries are deteriorating. WHO had massively critised the planning and late responses. \n"
   ]
  },
  {
   "cell_type": "markdown",
   "metadata": {},
   "source": [
    "# References:\n",
    "https://en.wikipedia.org/wiki/Western_African_Ebola_virus_epidemic"
   ]
  },
  {
   "cell_type": "code",
   "execution_count": null,
   "metadata": {},
   "outputs": [],
   "source": []
  }
 ],
 "metadata": {
  "kernelspec": {
   "display_name": "Python 3",
   "language": "python",
   "name": "python3"
  },
  "language_info": {
   "codemirror_mode": {
    "name": "ipython",
    "version": 3
   },
   "file_extension": ".py",
   "mimetype": "text/x-python",
   "name": "python",
   "nbconvert_exporter": "python",
   "pygments_lexer": "ipython3",
   "version": "3.7.4"
  }
 },
 "nbformat": 4,
 "nbformat_minor": 4
}
